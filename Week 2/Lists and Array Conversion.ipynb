{
 "cells": [
  {
   "cell_type": "markdown",
   "id": "56059b4c-74ce-4f68-bd66-4c7b5d4951ad",
   "metadata": {},
   "source": [
    "# Conversion of Lists to Arrays and Vice Versa"
   ]
  },
  {
   "cell_type": "markdown",
   "id": "27b728bf-f815-48ca-a681-0310d86a38dc",
   "metadata": {},
   "source": [
    "### List -> Arrays"
   ]
  },
  {
   "cell_type": "code",
   "execution_count": 3,
   "id": "6ed1fcff-b3b0-4f11-9269-8d6f11ce6399",
   "metadata": {},
   "outputs": [],
   "source": [
    "import numpy as np"
   ]
  },
  {
   "cell_type": "code",
   "execution_count": 2,
   "id": "bdbb847f-9550-4d96-8e9b-3a5ce99dec20",
   "metadata": {},
   "outputs": [
    {
     "data": {
      "text/plain": [
       "[1, 2, 3, 4, 5, 6, 7, 8, 9]"
      ]
     },
     "execution_count": 2,
     "metadata": {},
     "output_type": "execute_result"
    }
   ],
   "source": [
    "list1 = list((1, 2, 3, 4, 5, 6, 7, 8, 9))\n",
    "list1"
   ]
  },
  {
   "cell_type": "code",
   "execution_count": 4,
   "id": "f0c63064-c167-4903-984a-4b2276722185",
   "metadata": {},
   "outputs": [
    {
     "data": {
      "text/plain": [
       "array([1, 2, 3, 4, 5, 6, 7, 8, 9])"
      ]
     },
     "execution_count": 4,
     "metadata": {},
     "output_type": "execute_result"
    }
   ],
   "source": [
    "list1_array = np.array(list1)\n",
    "list1_array"
   ]
  },
  {
   "cell_type": "markdown",
   "id": "fbc34286-a097-4ab6-b0e9-429b7d46bf68",
   "metadata": {},
   "source": [
    "### Arrays -> List"
   ]
  },
  {
   "cell_type": "code",
   "execution_count": 5,
   "id": "25021293-f065-4bfa-a288-970aac5ca1ea",
   "metadata": {},
   "outputs": [
    {
     "data": {
      "text/plain": [
       "array([1, 2, 3, 4, 5, 6, 7, 8, 9])"
      ]
     },
     "execution_count": 5,
     "metadata": {},
     "output_type": "execute_result"
    }
   ],
   "source": [
    "array1 = np.array((1, 2, 3, 4, 5, 6, 7, 8, 9))\n",
    "array1"
   ]
  },
  {
   "cell_type": "code",
   "execution_count": 7,
   "id": "8d54b2f4-4e7b-4ff5-97e1-b7e156ffd795",
   "metadata": {},
   "outputs": [
    {
     "data": {
      "text/plain": [
       "[1, 2, 3, 4, 5, 6, 7, 8, 9]"
      ]
     },
     "execution_count": 7,
     "metadata": {},
     "output_type": "execute_result"
    }
   ],
   "source": [
    "array1_list = array1.tolist()\n",
    "array1_list"
   ]
  },
  {
   "cell_type": "code",
   "execution_count": null,
   "id": "1a4f4cb4-90b5-4e2a-9b75-8e32e95e4ff6",
   "metadata": {},
   "outputs": [],
   "source": []
  }
 ],
 "metadata": {
  "kernelspec": {
   "display_name": "Python 3 (ipykernel)",
   "language": "python",
   "name": "python3"
  },
  "language_info": {
   "codemirror_mode": {
    "name": "ipython",
    "version": 3
   },
   "file_extension": ".py",
   "mimetype": "text/x-python",
   "name": "python",
   "nbconvert_exporter": "python",
   "pygments_lexer": "ipython3",
   "version": "3.12.3"
  }
 },
 "nbformat": 4,
 "nbformat_minor": 5
}
