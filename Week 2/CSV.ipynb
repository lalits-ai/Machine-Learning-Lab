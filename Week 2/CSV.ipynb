{
 "cells": [
  {
   "cell_type": "markdown",
   "id": "4e116667-657c-42e4-a6d1-5bf483516750",
   "metadata": {},
   "source": [
    "### Write a program in Python to create a new csv file and fill in the data used in Q6 and display the .csv file."
   ]
  },
  {
   "cell_type": "code",
   "execution_count": 1,
   "id": "4b82ce5e-ada7-402a-a207-0460b8e48579",
   "metadata": {},
   "outputs": [],
   "source": [
    "import csv"
   ]
  },
  {
   "cell_type": "code",
   "execution_count": 2,
   "id": "a64076d6-dfed-48be-a917-cc7db5889064",
   "metadata": {},
   "outputs": [],
   "source": [
    "data = {'sno':[1,2,3,4,5,6,7,8,9,10],\n",
    "        'regno':[230970001, 230970002, 230970003, 230970004, 230970005, 230970006, 230970007, 230970008, 230970009, 230970010],\n",
    "        'name':['John', 'Jacob', 'Mistral', 'Llama', 'Focus', 'Lalit', 'Sai', 'GenAI', 'MetaAI', 'DeepMind'],\n",
    "        'm1':[78,90,23,70,79,104,110,89,94,32],\n",
    "        'm2':[90,84,93,89,50,22,43,90,750,34],\n",
    "        'm3':[45,39,50,93,82,88,41,200,43,55],\n",
    "        'm4':[90,45,33,56,75,34,570,45,76,32],\n",
    "        'm5':[92,44,23,56,765,96,87,62,35,86]}"
   ]
  },
  {
   "cell_type": "code",
   "execution_count": 3,
   "id": "eb96a405-712b-43ef-983f-7636aeea382a",
   "metadata": {},
   "outputs": [
    {
     "data": {
      "text/plain": [
       "{'sno': [1, 2, 3, 4, 5, 6, 7, 8, 9, 10],\n",
       " 'regno': [230970001,\n",
       "  230970002,\n",
       "  230970003,\n",
       "  230970004,\n",
       "  230970005,\n",
       "  230970006,\n",
       "  230970007,\n",
       "  230970008,\n",
       "  230970009,\n",
       "  230970010],\n",
       " 'name': ['John',\n",
       "  'Jacob',\n",
       "  'Mistral',\n",
       "  'Llama',\n",
       "  'Focus',\n",
       "  'Lalit',\n",
       "  'Sai',\n",
       "  'GenAI',\n",
       "  'MetaAI',\n",
       "  'DeepMind'],\n",
       " 'm1': [78, 90, 23, 70, 79, 104, 110, 89, 94, 32],\n",
       " 'm2': [90, 84, 93, 89, 50, 22, 43, 90, 750, 34],\n",
       " 'm3': [45, 39, 50, 93, 82, 88, 41, 200, 43, 55],\n",
       " 'm4': [90, 45, 33, 56, 75, 34, 570, 45, 76, 32],\n",
       " 'm5': [92, 44, 23, 56, 765, 96, 87, 62, 35, 86]}"
      ]
     },
     "execution_count": 3,
     "metadata": {},
     "output_type": "execute_result"
    }
   ],
   "source": [
    "data"
   ]
  },
  {
   "cell_type": "code",
   "execution_count": 4,
   "id": "c2aee3c8-ff8c-438b-9b09-cab7e2d856ff",
   "metadata": {},
   "outputs": [],
   "source": [
    "path = r'C:\\Jupyter Projects\\Machine Learning\\ML Lab\\Week 2\\student_data.csv'"
   ]
  },
  {
   "cell_type": "code",
   "execution_count": 5,
   "id": "da58709d-e1e9-4c10-b5dc-e189a69cab4e",
   "metadata": {},
   "outputs": [
    {
     "data": {
      "text/plain": [
       "dict_keys(['sno', 'regno', 'name', 'm1', 'm2', 'm3', 'm4', 'm5'])"
      ]
     },
     "execution_count": 5,
     "metadata": {},
     "output_type": "execute_result"
    }
   ],
   "source": [
    "data.keys()"
   ]
  },
  {
   "cell_type": "code",
   "execution_count": 12,
   "id": "8d9eb901-2bf2-42e9-9376-2f83d28edb3b",
   "metadata": {},
   "outputs": [
    {
     "data": {
      "text/plain": [
       "dict_values([[1, 2, 3, 4, 5, 6, 7, 8, 9, 10], [230970001, 230970002, 230970003, 230970004, 230970005, 230970006, 230970007, 230970008, 230970009, 230970010], ['John', 'Jacob', 'Mistral', 'Llama', 'Focus', 'Lalit', 'Sai', 'GenAI', 'MetaAI', 'DeepMind'], [78, 90, 23, 70, 79, 104, 110, 89, 94, 32], [90, 84, 93, 89, 50, 22, 43, 90, 750, 34], [45, 39, 50, 93, 82, 88, 41, 200, 43, 55], [90, 45, 33, 56, 75, 34, 570, 45, 76, 32], [92, 44, 23, 56, 765, 96, 87, 62, 35, 86]])"
      ]
     },
     "execution_count": 12,
     "metadata": {},
     "output_type": "execute_result"
    }
   ],
   "source": [
    "data.values()"
   ]
  },
  {
   "cell_type": "code",
   "execution_count": 14,
   "id": "8ac5c022-2ff5-4f30-b791-01167ea9f06f",
   "metadata": {},
   "outputs": [],
   "source": [
    "# Convert the dictionary to a list of dictionaries\n",
    "rows = [dict(zip(data, t)) for t in zip(*data.values())]"
   ]
  },
  {
   "cell_type": "code",
   "execution_count": 16,
   "id": "4462b27a-4ab8-4e64-bcd1-87af0b4b770d",
   "metadata": {},
   "outputs": [],
   "source": [
    "with open('data.csv', 'w', newline='') as file:\n",
    "    writer = csv.DictWriter(file, fieldnames=data.keys())\n",
    "    writer.writeheader()\n",
    "    writer.writerows(rows)"
   ]
  },
  {
   "cell_type": "code",
   "execution_count": 17,
   "id": "47634d5b-0e18-41a5-904a-e5572675fad9",
   "metadata": {},
   "outputs": [
    {
     "name": "stdout",
     "output_type": "stream",
     "text": [
      "{'sno': '1', 'regno': '230970001', 'name': 'John', 'm1': '78', 'm2': '90', 'm3': '45', 'm4': '90', 'm5': '92'}\n",
      "{'sno': '2', 'regno': '230970002', 'name': 'Jacob', 'm1': '90', 'm2': '84', 'm3': '39', 'm4': '45', 'm5': '44'}\n",
      "{'sno': '3', 'regno': '230970003', 'name': 'Mistral', 'm1': '23', 'm2': '93', 'm3': '50', 'm4': '33', 'm5': '23'}\n",
      "{'sno': '4', 'regno': '230970004', 'name': 'Llama', 'm1': '70', 'm2': '89', 'm3': '93', 'm4': '56', 'm5': '56'}\n",
      "{'sno': '5', 'regno': '230970005', 'name': 'Focus', 'm1': '79', 'm2': '50', 'm3': '82', 'm4': '75', 'm5': '765'}\n",
      "{'sno': '6', 'regno': '230970006', 'name': 'Lalit', 'm1': '104', 'm2': '22', 'm3': '88', 'm4': '34', 'm5': '96'}\n",
      "{'sno': '7', 'regno': '230970007', 'name': 'Sai', 'm1': '110', 'm2': '43', 'm3': '41', 'm4': '570', 'm5': '87'}\n",
      "{'sno': '8', 'regno': '230970008', 'name': 'GenAI', 'm1': '89', 'm2': '90', 'm3': '200', 'm4': '45', 'm5': '62'}\n",
      "{'sno': '9', 'regno': '230970009', 'name': 'MetaAI', 'm1': '94', 'm2': '750', 'm3': '43', 'm4': '76', 'm5': '35'}\n",
      "{'sno': '10', 'regno': '230970010', 'name': 'DeepMind', 'm1': '32', 'm2': '34', 'm3': '55', 'm4': '32', 'm5': '86'}\n"
     ]
    }
   ],
   "source": [
    "with open('data.csv', 'r', newline='') as file:\n",
    "    reader = csv.DictReader(file)\n",
    "\n",
    "    for row in reader:\n",
    "        print(row)"
   ]
  },
  {
   "cell_type": "code",
   "execution_count": null,
   "id": "43c29fb6-d76f-4e1e-a787-6866a9762889",
   "metadata": {},
   "outputs": [],
   "source": []
  }
 ],
 "metadata": {
  "kernelspec": {
   "display_name": "Python 3 (ipykernel)",
   "language": "python",
   "name": "python3"
  },
  "language_info": {
   "codemirror_mode": {
    "name": "ipython",
    "version": 3
   },
   "file_extension": ".py",
   "mimetype": "text/x-python",
   "name": "python",
   "nbconvert_exporter": "python",
   "pygments_lexer": "ipython3",
   "version": "3.12.3"
  }
 },
 "nbformat": 4,
 "nbformat_minor": 5
}
