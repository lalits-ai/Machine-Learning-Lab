{
 "cells": [
  {
   "cell_type": "markdown",
   "id": "baf19b22-46aa-4bf7-b798-3f01428c783a",
   "metadata": {},
   "source": [
    "# Generate random data using all available built in random functions in Python."
   ]
  },
  {
   "cell_type": "code",
   "execution_count": 1,
   "id": "b0904d06-feef-4a04-afc7-6076b64f9732",
   "metadata": {},
   "outputs": [],
   "source": [
    "import random"
   ]
  },
  {
   "cell_type": "code",
   "execution_count": 3,
   "id": "27ab2629-085e-465a-9a4b-eca640a7c974",
   "metadata": {},
   "outputs": [
    {
     "name": "stdout",
     "output_type": "stream",
     "text": [
      "0.5853242878357597\n"
     ]
    }
   ],
   "source": [
    "#This method returns a random floating number between 0 and 1.\n",
    "print(random.random())"
   ]
  },
  {
   "cell_type": "code",
   "execution_count": 4,
   "id": "eaee752e-edbd-4c64-acd0-9b422f0c6e54",
   "metadata": {},
   "outputs": [
    {
     "name": "stdout",
     "output_type": "stream",
     "text": [
      "44\n"
     ]
    }
   ],
   "source": [
    "# Generating a random number from a given interval\n",
    "\n",
    "print(random.randint(20, 50))"
   ]
  },
  {
   "cell_type": "code",
   "execution_count": 5,
   "id": "e08206e2-4482-44d9-8dd5-8c7df69df7b3",
   "metadata": {},
   "outputs": [
    {
     "data": {
      "text/plain": [
       "[37, 33, 48, 27, 40, 20]"
      ]
     },
     "execution_count": 5,
     "metadata": {},
     "output_type": "execute_result"
    }
   ],
   "source": [
    "# Generates n no. of random numbers and returns as a list from a given interval\n",
    "sample_list = random.sample(range(20, 50), 6)\n",
    "sample_list"
   ]
  },
  {
   "cell_type": "code",
   "execution_count": 6,
   "id": "0a5c2bc7-4e6a-493e-bbc5-c83953a75bd9",
   "metadata": {},
   "outputs": [
    {
     "name": "stdout",
     "output_type": "stream",
     "text": [
      "200\n"
     ]
    }
   ],
   "source": [
    "# choice() - to select a random number/choice from a given range of values\n",
    "\n",
    "print(random.choice([1,4,6,200]))"
   ]
  },
  {
   "cell_type": "code",
   "execution_count": 7,
   "id": "735c2542-e73f-44f1-af90-efc3a685bc3b",
   "metadata": {},
   "outputs": [],
   "source": [
    "import numpy as np"
   ]
  },
  {
   "cell_type": "code",
   "execution_count": 9,
   "id": "9e5e6a13-d52f-453e-867d-c208fd3ab85f",
   "metadata": {},
   "outputs": [
    {
     "data": {
      "text/plain": [
       "array([[0.15035779, 0.06592221],\n",
       "       [0.47615499, 0.80773315],\n",
       "       [0.57145114, 0.4810184 ]])"
      ]
     },
     "execution_count": 9,
     "metadata": {},
     "output_type": "execute_result"
    }
   ],
   "source": [
    "# Creating an array of random numbers\n",
    "'''\n",
    "Syntax: np.random.rand(row,col)\n",
    "row, col determines matrix shape\n",
    "'''\n",
    "\n",
    "np.random.rand(3,2)"
   ]
  },
  {
   "cell_type": "code",
   "execution_count": 13,
   "id": "9b4f628f-9d25-4f66-bb1e-b1840c16eea3",
   "metadata": {},
   "outputs": [
    {
     "data": {
      "text/plain": [
       "array([[4, 3, 1],\n",
       "       [7, 6, 4],\n",
       "       [8, 5, 7]])"
      ]
     },
     "execution_count": 13,
     "metadata": {},
     "output_type": "execute_result"
    }
   ],
   "source": [
    "'''\n",
    "Generates an array of 3x3 with random values \n",
    "from interval 1 - 10\n",
    "'''\n",
    "np.random.randint(1,10, size=(3,3))"
   ]
  },
  {
   "cell_type": "code",
   "execution_count": 24,
   "id": "c69c5224-15ce-4572-a796-f032cf1830cb",
   "metadata": {},
   "outputs": [
    {
     "name": "stdout",
     "output_type": "stream",
     "text": [
      "4.746929278292694\n"
     ]
    }
   ],
   "source": [
    "'''\n",
    "uniform() - Returns a float number between two given parameters\n",
    "'''\n",
    "print(random.uniform(3,5))"
   ]
  },
  {
   "cell_type": "code",
   "execution_count": null,
   "id": "793e4fa2-cb3a-417e-a441-c0bd4517491c",
   "metadata": {},
   "outputs": [],
   "source": []
  },
  {
   "cell_type": "code",
   "execution_count": null,
   "id": "7ef08f3a-f512-4fd9-ab1f-ea2bd2aaf562",
   "metadata": {},
   "outputs": [],
   "source": []
  }
 ],
 "metadata": {
  "kernelspec": {
   "display_name": "Python 3 (ipykernel)",
   "language": "python",
   "name": "python3"
  },
  "language_info": {
   "codemirror_mode": {
    "name": "ipython",
    "version": 3
   },
   "file_extension": ".py",
   "mimetype": "text/x-python",
   "name": "python",
   "nbconvert_exporter": "python",
   "pygments_lexer": "ipython3",
   "version": "3.12.3"
  }
 },
 "nbformat": 4,
 "nbformat_minor": 5
}
