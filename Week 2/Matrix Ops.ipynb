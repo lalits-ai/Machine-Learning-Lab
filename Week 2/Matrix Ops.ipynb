{
 "cells": [
  {
   "cell_type": "markdown",
   "id": "0c2ab408-14db-4a76-8f10-3c4d33885780",
   "metadata": {},
   "source": [
    "# Matrix Operations"
   ]
  },
  {
   "cell_type": "markdown",
   "id": "f9b6c26d-d6b0-4674-8fc1-e54c3f5f0f70",
   "metadata": {},
   "source": [
    "* Matrix creation using numpy arrays\n",
    "* Matrix addition and multiplication using coding and built in functions: matmul, matrix transpose, matrix inversion\n"
   ]
  },
  {
   "cell_type": "code",
   "execution_count": 2,
   "id": "44a0a56d-b692-41b4-b229-0bc3d43b8ab9",
   "metadata": {},
   "outputs": [],
   "source": [
    "import numpy as np"
   ]
  },
  {
   "cell_type": "code",
   "execution_count": 3,
   "id": "e4b0708d-1c25-45cf-bfee-62c9131bafc5",
   "metadata": {},
   "outputs": [
    {
     "data": {
      "text/plain": [
       "array([[1, 2, 3],\n",
       "       [4, 5, 6],\n",
       "       [7, 8, 9]])"
      ]
     },
     "execution_count": 3,
     "metadata": {},
     "output_type": "execute_result"
    }
   ],
   "source": [
    "matrix1 = np.array(np.arange(1, 10)).reshape(3, 3)\n",
    "matrix1"
   ]
  },
  {
   "cell_type": "code",
   "execution_count": 5,
   "id": "f57000bf-4f3c-434a-af72-e68dc7daded6",
   "metadata": {},
   "outputs": [
    {
     "data": {
      "text/plain": [
       "array([[11, 12, 13],\n",
       "       [14, 15, 16],\n",
       "       [17, 18, 19]])"
      ]
     },
     "execution_count": 5,
     "metadata": {},
     "output_type": "execute_result"
    }
   ],
   "source": [
    "matrix2 = np.array(np.arange(11, 20)).reshape(3, 3)\n",
    "matrix2"
   ]
  },
  {
   "cell_type": "markdown",
   "id": "5b91daaf-eb06-47c0-8010-06066235dfe9",
   "metadata": {},
   "source": [
    "### Matrix Addition and Multiplication using coding"
   ]
  },
  {
   "cell_type": "code",
   "execution_count": 10,
   "id": "a007da9a-5af8-4f86-bccc-154d6fa2211c",
   "metadata": {},
   "outputs": [
    {
     "data": {
      "text/plain": [
       "array([[12, 14, 16],\n",
       "       [18, 20, 22],\n",
       "       [24, 26, 28]])"
      ]
     },
     "execution_count": 10,
     "metadata": {},
     "output_type": "execute_result"
    }
   ],
   "source": [
    "# Matrix Addition\n",
    "\n",
    "added_matrix = []\n",
    "for i in range(len(matrix1)):\n",
    "    for j in range(len(matrix1)):\n",
    "        added_matrix.append(matrix1[i][j] + matrix2[i][j]);\n",
    "added_matrix = np.array(added_matrix).reshape(3, 3)\n",
    "added_matrix"
   ]
  },
  {
   "cell_type": "code",
   "execution_count": 11,
   "id": "946bc46a-ea7a-4d14-b2b0-6c0233659a46",
   "metadata": {},
   "outputs": [
    {
     "data": {
      "text/plain": [
       "array([[ 11,  24,  39],\n",
       "       [ 56,  75,  96],\n",
       "       [119, 144, 171]])"
      ]
     },
     "execution_count": 11,
     "metadata": {},
     "output_type": "execute_result"
    }
   ],
   "source": [
    "# Matrix Multiplication\n",
    "\n",
    "multiplied_matrix = []\n",
    "for i in range(len(matrix1)):\n",
    "    for j in range(len(matrix2)):\n",
    "        multiplied_matrix.append(matrix1[i][j] * matrix2[i][j])\n",
    "multiplied_matrix = np.array(multiplied_matrix).reshape(3, 3)\n",
    "multiplied_matrix"
   ]
  },
  {
   "cell_type": "markdown",
   "id": "d83dd924-d178-4a6c-8751-0fc6e4721edf",
   "metadata": {},
   "source": [
    "### Matrix Addition and Multiplication using In-Built functions"
   ]
  },
  {
   "cell_type": "code",
   "execution_count": 12,
   "id": "e9ed5f92-36ee-4810-b08a-6c7fc5cd70d6",
   "metadata": {},
   "outputs": [
    {
     "data": {
      "text/plain": [
       "array([[12, 14, 16],\n",
       "       [18, 20, 22],\n",
       "       [24, 26, 28]])"
      ]
     },
     "execution_count": 12,
     "metadata": {},
     "output_type": "execute_result"
    }
   ],
   "source": [
    "# Matrix Addition\n",
    "\n",
    "add_matrix = np.add(matrix1, matrix2)\n",
    "add_matrix"
   ]
  },
  {
   "cell_type": "code",
   "execution_count": 13,
   "id": "00b98455-253f-4a26-a2bb-f1ddb53dd6cd",
   "metadata": {},
   "outputs": [
    {
     "data": {
      "text/plain": [
       "array([[ 90,  96, 102],\n",
       "       [216, 231, 246],\n",
       "       [342, 366, 390]])"
      ]
     },
     "execution_count": 13,
     "metadata": {},
     "output_type": "execute_result"
    }
   ],
   "source": [
    "mul_matrix = np.matmul(matrix1, matrix2)\n",
    "mul_matrix"
   ]
  },
  {
   "cell_type": "markdown",
   "id": "ab5a0df4-c720-4105-8c6f-28844d8c53e2",
   "metadata": {},
   "source": [
    "### Matrix Transpose and Matrix Inversion"
   ]
  },
  {
   "cell_type": "code",
   "execution_count": 18,
   "id": "15679ab3-2d81-4944-a9c6-791d445adc36",
   "metadata": {},
   "outputs": [
    {
     "data": {
      "text/plain": [
       "array([[20, 21, 22, 23, 24, 25, 26, 27, 28, 29],\n",
       "       [30, 31, 32, 33, 34, 35, 36, 37, 38, 39],\n",
       "       [40, 41, 42, 43, 44, 45, 46, 47, 48, 49]])"
      ]
     },
     "execution_count": 18,
     "metadata": {},
     "output_type": "execute_result"
    }
   ],
   "source": [
    "matrix = np.arange(20, 50).reshape(3, 10)\n",
    "matrix"
   ]
  },
  {
   "cell_type": "code",
   "execution_count": 20,
   "id": "bf4da3aa-581e-4176-b9d9-3a6563089841",
   "metadata": {},
   "outputs": [
    {
     "data": {
      "text/plain": [
       "array([[20, 30, 40],\n",
       "       [21, 31, 41],\n",
       "       [22, 32, 42],\n",
       "       [23, 33, 43],\n",
       "       [24, 34, 44],\n",
       "       [25, 35, 45],\n",
       "       [26, 36, 46],\n",
       "       [27, 37, 47],\n",
       "       [28, 38, 48],\n",
       "       [29, 39, 49]])"
      ]
     },
     "execution_count": 20,
     "metadata": {},
     "output_type": "execute_result"
    }
   ],
   "source": [
    "# Transpose\n",
    "\n",
    "transpose_matrix = matrix.T\n",
    "transpose_matrix"
   ]
  },
  {
   "cell_type": "code",
   "execution_count": 26,
   "id": "cfe79961-179b-4c82-a20a-7cb094ef60e2",
   "metadata": {},
   "outputs": [
    {
     "data": {
      "text/plain": [
       "array([[-0.96315251,  0.30603889,  0.00921187],\n",
       "       [ 2.01637666, -0.64176049,  0.00409417],\n",
       "       [-0.02047083,  0.05220061, -0.00511771]])"
      ]
     },
     "execution_count": 26,
     "metadata": {},
     "output_type": "execute_result"
    }
   ],
   "source": [
    "# Inversion\n",
    "\n",
    "new_matrix = [3, 2, 7, 10, 5, 22, 90, 43, 1]\n",
    "new_matrix = np.array(new_matrix).reshape(3, 3)\n",
    "inverted_matrix = np.linalg.inv(new_matrix)\n",
    "inverted_matrix"
   ]
  },
  {
   "cell_type": "code",
   "execution_count": null,
   "id": "d716f083-5b34-4da7-9e28-0e1b1f6d2f4a",
   "metadata": {},
   "outputs": [],
   "source": []
  }
 ],
 "metadata": {
  "kernelspec": {
   "display_name": "Python 3 (ipykernel)",
   "language": "python",
   "name": "python3"
  },
  "language_info": {
   "codemirror_mode": {
    "name": "ipython",
    "version": 3
   },
   "file_extension": ".py",
   "mimetype": "text/x-python",
   "name": "python",
   "nbconvert_exporter": "python",
   "pygments_lexer": "ipython3",
   "version": "3.12.3"
  }
 },
 "nbformat": 4,
 "nbformat_minor": 5
}
