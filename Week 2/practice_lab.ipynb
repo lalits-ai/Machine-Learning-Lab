{
 "cells": [
  {
   "cell_type": "markdown",
   "id": "ec35e1e0",
   "metadata": {},
   "source": [
    "# Practice Lab"
   ]
  },
  {
   "cell_type": "markdown",
   "id": "f6134546",
   "metadata": {},
   "source": [
    "### range and arange()"
   ]
  },
  {
   "cell_type": "code",
   "execution_count": 6,
   "id": "4b8bcaab",
   "metadata": {},
   "outputs": [
    {
     "name": "stdout",
     "output_type": "stream",
     "text": [
      "[0, 1, 2, 3, 4, 5, 6, 7, 8, 9]\n"
     ]
    }
   ],
   "source": [
    "print([x for x in range(10)])"
   ]
  },
  {
   "cell_type": "code",
   "execution_count": 8,
   "id": "c2570bdf",
   "metadata": {},
   "outputs": [
    {
     "name": "stdout",
     "output_type": "stream",
     "text": [
      "[1, 2, 3, 4, 5, 6, 7, 8, 9]\n"
     ]
    }
   ],
   "source": [
    "print([x for x in range(1,10)])"
   ]
  },
  {
   "cell_type": "code",
   "execution_count": 9,
   "id": "a34c90fd",
   "metadata": {},
   "outputs": [
    {
     "name": "stdout",
     "output_type": "stream",
     "text": [
      "[1, 3, 5, 7, 9]\n"
     ]
    }
   ],
   "source": [
    "print([x for x in range(1,10,2)])"
   ]
  },
  {
   "cell_type": "code",
   "execution_count": 10,
   "id": "c0ca6cc6",
   "metadata": {},
   "outputs": [],
   "source": [
    "import numpy as np"
   ]
  },
  {
   "cell_type": "code",
   "execution_count": 18,
   "id": "935536dd",
   "metadata": {},
   "outputs": [
    {
     "name": "stdout",
     "output_type": "stream",
     "text": [
      "[1 2 3 4 5 6 7 8 9]\n",
      "(9,)\n"
     ]
    }
   ],
   "source": [
    "range_val = np.array(np.arange(1,10))\n",
    "print(range_val)\n",
    "print(range_val.shape)"
   ]
  },
  {
   "cell_type": "code",
   "execution_count": 22,
   "id": "a9fffeef",
   "metadata": {},
   "outputs": [],
   "source": [
    "new_range_val = np.array(np.arange(2, 10, 3, dtype='int64'))"
   ]
  },
  {
   "cell_type": "code",
   "execution_count": 23,
   "id": "a46d4da4",
   "metadata": {},
   "outputs": [
    {
     "data": {
      "text/plain": [
       "array([2, 5, 8], dtype=int64)"
      ]
     },
     "execution_count": 23,
     "metadata": {},
     "output_type": "execute_result"
    }
   ],
   "source": [
    "new_range_val"
   ]
  },
  {
   "cell_type": "markdown",
   "id": "eca80478",
   "metadata": {},
   "source": [
    "### Random"
   ]
  },
  {
   "cell_type": "code",
   "execution_count": 56,
   "id": "ccd661a1",
   "metadata": {},
   "outputs": [],
   "source": [
    "import random\n",
    "\n",
    "state = random.getstate()\n",
    "random.setstate(state)"
   ]
  },
  {
   "cell_type": "code",
   "execution_count": 61,
   "id": "74dbe06b",
   "metadata": {},
   "outputs": [
    {
     "name": "stdout",
     "output_type": "stream",
     "text": [
      "0.9212677514042844\n"
     ]
    }
   ],
   "source": [
    "#This method returns a random floating number between 0 and 1.\n",
    "print(random.random())"
   ]
  },
  {
   "cell_type": "code",
   "execution_count": 62,
   "id": "4d8b8248",
   "metadata": {},
   "outputs": [
    {
     "name": "stdout",
     "output_type": "stream",
     "text": [
      "43\n"
     ]
    }
   ],
   "source": [
    "# Generating a random number from a given interval\n",
    "\n",
    "print(random.randint(20, 50))"
   ]
  },
  {
   "cell_type": "code",
   "execution_count": 65,
   "id": "ad10be04",
   "metadata": {},
   "outputs": [
    {
     "data": {
      "text/plain": [
       "[29, 26, 33, 25, 49, 41]"
      ]
     },
     "execution_count": 65,
     "metadata": {},
     "output_type": "execute_result"
    }
   ],
   "source": [
    "# Generates n no. of random numbers and returns as a list from a given interval\n",
    "sample_list = random.sample(range(20, 50), 6)\n",
    "sample_list"
   ]
  },
  {
   "cell_type": "code",
   "execution_count": 66,
   "id": "bf6c18f1",
   "metadata": {},
   "outputs": [
    {
     "name": "stdout",
     "output_type": "stream",
     "text": [
      "6\n"
     ]
    }
   ],
   "source": [
    "# choice() - to select a random number/choice from a given range of values\n",
    "\n",
    "print(random.choice([1,4,6,200]))"
   ]
  },
  {
   "cell_type": "code",
   "execution_count": 67,
   "id": "f944bd23",
   "metadata": {},
   "outputs": [
    {
     "data": {
      "text/plain": [
       "array([[0.88134711, 0.57155074],\n",
       "       [0.56300137, 0.45143806],\n",
       "       [0.05803657, 0.4342372 ]])"
      ]
     },
     "execution_count": 67,
     "metadata": {},
     "output_type": "execute_result"
    }
   ],
   "source": [
    "# Creating an array of random numbers\n",
    "\n",
    "np.random.rand(3,2)"
   ]
  },
  {
   "cell_type": "code",
   "execution_count": 72,
   "id": "431d64a0",
   "metadata": {},
   "outputs": [
    {
     "data": {
      "text/plain": [
       "array([[2, 2, 4],\n",
       "       [7, 2, 5],\n",
       "       [5, 9, 5]])"
      ]
     },
     "execution_count": 72,
     "metadata": {},
     "output_type": "execute_result"
    }
   ],
   "source": [
    "np.random.randint(10, size=(3,3))"
   ]
  },
  {
   "cell_type": "markdown",
   "id": "fb934455",
   "metadata": {},
   "source": [
    "### Matrix Ops"
   ]
  },
  {
   "cell_type": "code",
   "execution_count": 83,
   "id": "e2b4c323",
   "metadata": {},
   "outputs": [
    {
     "name": "stdout",
     "output_type": "stream",
     "text": [
      "Enter no. of rows:3\n",
      "Enter no. of cols:3\n",
      "1\n",
      "2\n",
      "3\n",
      "4\n",
      "5\n",
      "6\n",
      "7\n",
      "8\n",
      "9\n"
     ]
    }
   ],
   "source": [
    "import numpy as np\n",
    "\n",
    "rows = int(input(\"Enter no. of rows:\"))\n",
    "cols = int(input(\"Enter no. of cols:\"))\n",
    "\n",
    "total = rows * cols\n",
    "\n",
    "num1 = []\n",
    "for i in range(total):\n",
    "    data = int(input())\n",
    "    num1.append(data)\n",
    "\n",
    "matrix1 = np.array(num1)\n",
    "matrix1 = matrix1.reshape(rows,cols)"
   ]
  },
  {
   "cell_type": "code",
   "execution_count": 84,
   "id": "77c95525",
   "metadata": {},
   "outputs": [
    {
     "name": "stdout",
     "output_type": "stream",
     "text": [
      "3\n",
      "2\n",
      "1\n",
      "6\n",
      "5\n",
      "4\n",
      "9\n",
      "8\n",
      "7\n"
     ]
    }
   ],
   "source": [
    "num2 = []\n",
    "for i in range(total):\n",
    "    data = int(input())\n",
    "    num2.append(data)\n",
    "\n",
    "matrix2 = np.array(num2)\n",
    "matrix2 = matrix2.reshape(rows,cols)"
   ]
  },
  {
   "cell_type": "code",
   "execution_count": 88,
   "id": "8f2e8771",
   "metadata": {},
   "outputs": [
    {
     "data": {
      "text/plain": [
       "array([[ 42,  36,  30],\n",
       "       [ 96,  81,  66],\n",
       "       [150, 126, 102]])"
      ]
     },
     "execution_count": 88,
     "metadata": {},
     "output_type": "execute_result"
    }
   ],
   "source": [
    "multiply = np.matmul(matrix1, matrix2)\n",
    "multiply"
   ]
  },
  {
   "cell_type": "code",
   "execution_count": 94,
   "id": "de63fe7c",
   "metadata": {},
   "outputs": [
    {
     "data": {
      "text/plain": [
       "array([[ 42,  36,  30],\n",
       "       [ 96,  81,  66],\n",
       "       [150, 126, 102]])"
      ]
     },
     "execution_count": 94,
     "metadata": {},
     "output_type": "execute_result"
    }
   ],
   "source": [
    "# dot product\n",
    "\n",
    "dot_multiply = np.dot(matrix1, matrix2)\n",
    "dot_multiply"
   ]
  },
  {
   "cell_type": "code",
   "execution_count": 95,
   "id": "aa5aa995",
   "metadata": {},
   "outputs": [
    {
     "data": {
      "text/plain": [
       "array([[ 42,  36,  30],\n",
       "       [ 96,  81,  66],\n",
       "       [150, 126, 102]])"
      ]
     },
     "execution_count": 95,
     "metadata": {},
     "output_type": "execute_result"
    }
   ],
   "source": [
    "_multiply = matrix1 @ matrix2\n",
    "_multiply"
   ]
  },
  {
   "cell_type": "code",
   "execution_count": 96,
   "id": "5d22389f",
   "metadata": {},
   "outputs": [
    {
     "data": {
      "text/plain": [
       "array([[ 42,  96, 150],\n",
       "       [ 36,  81, 126],\n",
       "       [ 30,  66, 102]])"
      ]
     },
     "execution_count": 96,
     "metadata": {},
     "output_type": "execute_result"
    }
   ],
   "source": [
    "matrix_transpose = multiply.T\n",
    "matrix_transpose"
   ]
  },
  {
   "cell_type": "code",
   "execution_count": 104,
   "id": "8ca974bd",
   "metadata": {},
   "outputs": [
    {
     "data": {
      "text/plain": [
       "0.0"
      ]
     },
     "execution_count": 104,
     "metadata": {},
     "output_type": "execute_result"
    }
   ],
   "source": [
    "np.linalg.det(multiply)"
   ]
  },
  {
   "cell_type": "markdown",
   "id": "82cba813",
   "metadata": {},
   "source": [
    "# HW - Explore tabulate package"
   ]
  },
  {
   "cell_type": "code",
   "execution_count": null,
   "id": "0225e865",
   "metadata": {},
   "outputs": [],
   "source": []
  }
 ],
 "metadata": {
  "kernelspec": {
   "display_name": "Python 3 (ipykernel)",
   "language": "python",
   "name": "python3"
  },
  "language_info": {
   "codemirror_mode": {
    "name": "ipython",
    "version": 3
   },
   "file_extension": ".py",
   "mimetype": "text/x-python",
   "name": "python",
   "nbconvert_exporter": "python",
   "pygments_lexer": "ipython3",
   "version": "3.12.3"
  }
 },
 "nbformat": 4,
 "nbformat_minor": 5
}
