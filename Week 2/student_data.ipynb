{
 "cells": [
  {
   "cell_type": "markdown",
   "id": "86d7f790-c474-48f0-8bab-ab88b7492381",
   "metadata": {},
   "source": [
    "# Student's Data\n",
    "\n",
    "### Prepare and excel sheet for Student's data with the following content:\n",
    "* data rows of minimum 10 students data.\n",
    "* Columns Data: SNO, REGNO, NAME, M1, M2, M3, M4, M5"
   ]
  },
  {
   "cell_type": "code",
   "execution_count": 1,
   "id": "95aa618e-07c5-4ada-aa9b-e01424ce99d7",
   "metadata": {},
   "outputs": [],
   "source": [
    "import pandas as pd\n",
    "import numpy as np\n",
    "\n",
    "import matplotlib.pyplot as plt\n",
    "%matplotlib inline\n",
    "\n",
    "import warnings\n",
    "warnings.filterwarnings('ignore')"
   ]
  },
  {
   "cell_type": "code",
   "execution_count": 53,
   "id": "c14c5309-378f-46b1-9959-e93f2b423275",
   "metadata": {},
   "outputs": [],
   "source": [
    "data = {'sno':[1,2,3,4,5,6,7,8,9,10],\n",
    "        'regno':[230970001, 230970002, 230970003, 230970004, 230970005, 230970006, 230970007, 230970008, 230970009, 230970010],\n",
    "        'name':['John', 'Jacob', 'Mistral', 'Llama', 'Focus', 'Lalit', 'Sai', 'GenAI', 'MetaAI', 'DeepMind'],\n",
    "        'm1':[78,90,23,70,79,104,110,89,94,32],\n",
    "        'm2':[90,84,93,89,50,22,43,90,750,34],\n",
    "        'm3':[45,39,50,93,82,88,41,200,43,55],\n",
    "        'm4':[90,45,33,56,75,34,570,45,76,32],\n",
    "        'm5':[92,44,23,56,765,96,87,62,35,86]}"
   ]
  },
  {
   "cell_type": "code",
   "execution_count": 54,
   "id": "7b4291ca-094f-4572-8b07-b784fbfc97de",
   "metadata": {},
   "outputs": [
    {
     "data": {
      "text/plain": [
       "{'sno': [1, 2, 3, 4, 5, 6, 7, 8, 9, 10],\n",
       " 'regno': [230970001,\n",
       "  230970002,\n",
       "  230970003,\n",
       "  230970004,\n",
       "  230970005,\n",
       "  230970006,\n",
       "  230970007,\n",
       "  230970008,\n",
       "  230970009,\n",
       "  230970010],\n",
       " 'name': ['John',\n",
       "  'Jacob',\n",
       "  'Mistral',\n",
       "  'Llama',\n",
       "  'Focus',\n",
       "  'Lalit',\n",
       "  'Sai',\n",
       "  'GenAI',\n",
       "  'MetaAI',\n",
       "  'DeepMind'],\n",
       " 'm1': [78, 90, 23, 70, 79, 104, 110, 89, 94, 32],\n",
       " 'm2': [90, 84, 93, 89, 50, 22, 43, 90, 750, 34],\n",
       " 'm3': [45, 39, 50, 93, 82, 88, 41, 200, 43, 55],\n",
       " 'm4': [90, 45, 33, 56, 75, 34, 570, 45, 76, 32],\n",
       " 'm5': [92, 44, 23, 56, 765, 96, 87, 62, 35, 86]}"
      ]
     },
     "execution_count": 54,
     "metadata": {},
     "output_type": "execute_result"
    }
   ],
   "source": [
    "data"
   ]
  },
  {
   "cell_type": "code",
   "execution_count": 55,
   "id": "f389810b-ac28-486e-b180-7bb9fb5bd4ae",
   "metadata": {},
   "outputs": [
    {
     "data": {
      "text/html": [
       "<div>\n",
       "<style scoped>\n",
       "    .dataframe tbody tr th:only-of-type {\n",
       "        vertical-align: middle;\n",
       "    }\n",
       "\n",
       "    .dataframe tbody tr th {\n",
       "        vertical-align: top;\n",
       "    }\n",
       "\n",
       "    .dataframe thead th {\n",
       "        text-align: right;\n",
       "    }\n",
       "</style>\n",
       "<table border=\"1\" class=\"dataframe\">\n",
       "  <thead>\n",
       "    <tr style=\"text-align: right;\">\n",
       "      <th></th>\n",
       "      <th>sno</th>\n",
       "      <th>regno</th>\n",
       "      <th>name</th>\n",
       "      <th>m1</th>\n",
       "      <th>m2</th>\n",
       "      <th>m3</th>\n",
       "      <th>m4</th>\n",
       "      <th>m5</th>\n",
       "    </tr>\n",
       "  </thead>\n",
       "  <tbody>\n",
       "    <tr>\n",
       "      <th>0</th>\n",
       "      <td>1</td>\n",
       "      <td>230970001</td>\n",
       "      <td>John</td>\n",
       "      <td>78</td>\n",
       "      <td>90</td>\n",
       "      <td>45</td>\n",
       "      <td>90</td>\n",
       "      <td>92</td>\n",
       "    </tr>\n",
       "    <tr>\n",
       "      <th>1</th>\n",
       "      <td>2</td>\n",
       "      <td>230970002</td>\n",
       "      <td>Jacob</td>\n",
       "      <td>90</td>\n",
       "      <td>84</td>\n",
       "      <td>39</td>\n",
       "      <td>45</td>\n",
       "      <td>44</td>\n",
       "    </tr>\n",
       "    <tr>\n",
       "      <th>2</th>\n",
       "      <td>3</td>\n",
       "      <td>230970003</td>\n",
       "      <td>Mistral</td>\n",
       "      <td>23</td>\n",
       "      <td>93</td>\n",
       "      <td>50</td>\n",
       "      <td>33</td>\n",
       "      <td>23</td>\n",
       "    </tr>\n",
       "    <tr>\n",
       "      <th>3</th>\n",
       "      <td>4</td>\n",
       "      <td>230970004</td>\n",
       "      <td>Llama</td>\n",
       "      <td>70</td>\n",
       "      <td>89</td>\n",
       "      <td>93</td>\n",
       "      <td>56</td>\n",
       "      <td>56</td>\n",
       "    </tr>\n",
       "    <tr>\n",
       "      <th>4</th>\n",
       "      <td>5</td>\n",
       "      <td>230970005</td>\n",
       "      <td>Focus</td>\n",
       "      <td>79</td>\n",
       "      <td>50</td>\n",
       "      <td>82</td>\n",
       "      <td>75</td>\n",
       "      <td>765</td>\n",
       "    </tr>\n",
       "    <tr>\n",
       "      <th>5</th>\n",
       "      <td>6</td>\n",
       "      <td>230970006</td>\n",
       "      <td>Lalit</td>\n",
       "      <td>104</td>\n",
       "      <td>22</td>\n",
       "      <td>88</td>\n",
       "      <td>34</td>\n",
       "      <td>96</td>\n",
       "    </tr>\n",
       "    <tr>\n",
       "      <th>6</th>\n",
       "      <td>7</td>\n",
       "      <td>230970007</td>\n",
       "      <td>Sai</td>\n",
       "      <td>110</td>\n",
       "      <td>43</td>\n",
       "      <td>41</td>\n",
       "      <td>570</td>\n",
       "      <td>87</td>\n",
       "    </tr>\n",
       "    <tr>\n",
       "      <th>7</th>\n",
       "      <td>8</td>\n",
       "      <td>230970008</td>\n",
       "      <td>GenAI</td>\n",
       "      <td>89</td>\n",
       "      <td>90</td>\n",
       "      <td>200</td>\n",
       "      <td>45</td>\n",
       "      <td>62</td>\n",
       "    </tr>\n",
       "    <tr>\n",
       "      <th>8</th>\n",
       "      <td>9</td>\n",
       "      <td>230970009</td>\n",
       "      <td>MetaAI</td>\n",
       "      <td>94</td>\n",
       "      <td>750</td>\n",
       "      <td>43</td>\n",
       "      <td>76</td>\n",
       "      <td>35</td>\n",
       "    </tr>\n",
       "    <tr>\n",
       "      <th>9</th>\n",
       "      <td>10</td>\n",
       "      <td>230970010</td>\n",
       "      <td>DeepMind</td>\n",
       "      <td>32</td>\n",
       "      <td>34</td>\n",
       "      <td>55</td>\n",
       "      <td>32</td>\n",
       "      <td>86</td>\n",
       "    </tr>\n",
       "  </tbody>\n",
       "</table>\n",
       "</div>"
      ],
      "text/plain": [
       "   sno      regno      name   m1   m2   m3   m4   m5\n",
       "0    1  230970001      John   78   90   45   90   92\n",
       "1    2  230970002     Jacob   90   84   39   45   44\n",
       "2    3  230970003   Mistral   23   93   50   33   23\n",
       "3    4  230970004     Llama   70   89   93   56   56\n",
       "4    5  230970005     Focus   79   50   82   75  765\n",
       "5    6  230970006     Lalit  104   22   88   34   96\n",
       "6    7  230970007       Sai  110   43   41  570   87\n",
       "7    8  230970008     GenAI   89   90  200   45   62\n",
       "8    9  230970009    MetaAI   94  750   43   76   35\n",
       "9   10  230970010  DeepMind   32   34   55   32   86"
      ]
     },
     "execution_count": 55,
     "metadata": {},
     "output_type": "execute_result"
    }
   ],
   "source": [
    "df = pd.DataFrame(data)\n",
    "df"
   ]
  },
  {
   "cell_type": "markdown",
   "id": "08ec63d6-8de3-4632-8333-86eaca203c62",
   "metadata": {},
   "source": [
    "### Computer the Mean, Median, Mode, Average and 5 number summary of all Marks Columns"
   ]
  },
  {
   "cell_type": "code",
   "execution_count": 56,
   "id": "0f05583a-a5f6-4061-b1c5-3ecf7832333f",
   "metadata": {},
   "outputs": [
    {
     "data": {
      "text/plain": [
       "{'m1': 76.9, 'm2': 134.5, 'm3': 73.6, 'm4': 105.6, 'm5': 134.6}"
      ]
     },
     "execution_count": 56,
     "metadata": {},
     "output_type": "execute_result"
    }
   ],
   "source": [
    "mean = {'m1':np.mean(df['m1']),\n",
    "        'm2':np.mean(df['m2']),\n",
    "        'm3':np.mean(df['m3']),\n",
    "        'm4':np.mean(df['m4']),\n",
    "        'm5':np.mean(df['m5'])}\n",
    "mean"
   ]
  },
  {
   "cell_type": "code",
   "execution_count": 57,
   "id": "eb9764c3-503d-47c0-829a-ed20ed61b77f",
   "metadata": {},
   "outputs": [
    {
     "data": {
      "text/plain": [
       "{'m1': 84.0, 'm2': 86.5, 'm3': 52.5, 'm4': 50.5, 'm5': 74.0}"
      ]
     },
     "execution_count": 57,
     "metadata": {},
     "output_type": "execute_result"
    }
   ],
   "source": [
    "median = {'m1':np.median(df['m1']),\n",
    "        'm2':np.median(df['m2']),\n",
    "        'm3':np.median(df['m3']),\n",
    "        'm4':np.median(df['m4']),\n",
    "        'm5':np.median(df['m5'])}\n",
    "median"
   ]
  },
  {
   "cell_type": "code",
   "execution_count": 58,
   "id": "b38cb8f1-3fd0-4f4b-82e8-a7c582dd907c",
   "metadata": {},
   "outputs": [
    {
     "data": {
      "text/plain": [
       "{'m1': 78, 'm2': 90, 'm3': 45, 'm4': 45, 'm5': 92}"
      ]
     },
     "execution_count": 58,
     "metadata": {},
     "output_type": "execute_result"
    }
   ],
   "source": [
    "import statistics as st\n",
    "\n",
    "mode = {'m1':st.mode(df['m1']),\n",
    "        'm2':st.mode(df['m2']),\n",
    "        'm3':st.mode(df['m3']),\n",
    "        'm4':st.mode(df['m4']),\n",
    "        'm5':st.mode(df['m5'])}\n",
    "mode"
   ]
  },
  {
   "cell_type": "code",
   "execution_count": 59,
   "id": "323196eb-1ae4-440c-aa70-e0a1a30dcf60",
   "metadata": {},
   "outputs": [],
   "source": [
    "_5Number = {'Min':[np.min(df['m1']),np.min(df['m2']),np.min(df['m3']),np.min(df['m4']),np.min(df['m5'])],\n",
    "            'Q1':[np.quantile(df['m1'], .25),np.quantile(df['m2'], .25),np.quantile(df['m3'], .25),np.quantile(df['m4'], .25),np.quantile(df['m5'], .25)],\n",
    "            'Q2':[np.quantile(df['m1'], .50),np.quantile(df['m2'], .50),np.quantile(df['m3'], .50),np.quantile(df['m4'], .50),np.quantile(df['m5'], .50)],\n",
    "            'Q3':[np.quantile(df['m1'], .75),np.quantile(df['m2'], .75),np.quantile(df['m3'], .75),np.quantile(df['m4'], .75),np.quantile(df['m5'], .75)],\n",
    "            'Max':[np.max(df['m1']),np.max(df['m2']),np.max(df['m3']),np.max(df['m4']),np.max(df['m5'])],\n",
    "            'Mean':[np.mean(df['m1']),np.mean(df['m2']),np.mean(df['m3']),np.mean(df['m4']),np.mean(df['m5'])]}"
   ]
  },
  {
   "cell_type": "code",
   "execution_count": 60,
   "id": "de3e5f93-4e19-4268-9242-4e8dda6605e2",
   "metadata": {},
   "outputs": [],
   "source": [
    "_5Number_df = pd.DataFrame(_5Number, index=[['M1','M2','M3','M4','M5']])"
   ]
  },
  {
   "cell_type": "code",
   "execution_count": 61,
   "id": "9a129ce8-b5cf-48bc-abf7-454440259410",
   "metadata": {},
   "outputs": [
    {
     "data": {
      "text/html": [
       "<div>\n",
       "<style scoped>\n",
       "    .dataframe tbody tr th:only-of-type {\n",
       "        vertical-align: middle;\n",
       "    }\n",
       "\n",
       "    .dataframe tbody tr th {\n",
       "        vertical-align: top;\n",
       "    }\n",
       "\n",
       "    .dataframe thead th {\n",
       "        text-align: right;\n",
       "    }\n",
       "</style>\n",
       "<table border=\"1\" class=\"dataframe\">\n",
       "  <thead>\n",
       "    <tr style=\"text-align: right;\">\n",
       "      <th></th>\n",
       "      <th>Min</th>\n",
       "      <th>Q1</th>\n",
       "      <th>Q2</th>\n",
       "      <th>Q3</th>\n",
       "      <th>Max</th>\n",
       "      <th>Mean</th>\n",
       "    </tr>\n",
       "  </thead>\n",
       "  <tbody>\n",
       "    <tr>\n",
       "      <th>M1</th>\n",
       "      <td>23</td>\n",
       "      <td>72.00</td>\n",
       "      <td>84.0</td>\n",
       "      <td>93.00</td>\n",
       "      <td>110</td>\n",
       "      <td>76.9</td>\n",
       "    </tr>\n",
       "    <tr>\n",
       "      <th>M2</th>\n",
       "      <td>22</td>\n",
       "      <td>44.75</td>\n",
       "      <td>86.5</td>\n",
       "      <td>90.00</td>\n",
       "      <td>750</td>\n",
       "      <td>134.5</td>\n",
       "    </tr>\n",
       "    <tr>\n",
       "      <th>M3</th>\n",
       "      <td>39</td>\n",
       "      <td>43.50</td>\n",
       "      <td>52.5</td>\n",
       "      <td>86.50</td>\n",
       "      <td>200</td>\n",
       "      <td>73.6</td>\n",
       "    </tr>\n",
       "    <tr>\n",
       "      <th>M4</th>\n",
       "      <td>32</td>\n",
       "      <td>36.75</td>\n",
       "      <td>50.5</td>\n",
       "      <td>75.75</td>\n",
       "      <td>570</td>\n",
       "      <td>105.6</td>\n",
       "    </tr>\n",
       "    <tr>\n",
       "      <th>M5</th>\n",
       "      <td>23</td>\n",
       "      <td>47.00</td>\n",
       "      <td>74.0</td>\n",
       "      <td>90.75</td>\n",
       "      <td>765</td>\n",
       "      <td>134.6</td>\n",
       "    </tr>\n",
       "  </tbody>\n",
       "</table>\n",
       "</div>"
      ],
      "text/plain": [
       "    Min     Q1    Q2     Q3  Max   Mean\n",
       "M1   23  72.00  84.0  93.00  110   76.9\n",
       "M2   22  44.75  86.5  90.00  750  134.5\n",
       "M3   39  43.50  52.5  86.50  200   73.6\n",
       "M4   32  36.75  50.5  75.75  570  105.6\n",
       "M5   23  47.00  74.0  90.75  765  134.6"
      ]
     },
     "execution_count": 61,
     "metadata": {},
     "output_type": "execute_result"
    }
   ],
   "source": [
    "_5Number_df"
   ]
  },
  {
   "cell_type": "markdown",
   "id": "392a8241-ab5f-4463-b7e9-b1412f1416c9",
   "metadata": {},
   "source": [
    "### Draw a box plot for all numeric columns & display outliers"
   ]
  },
  {
   "cell_type": "code",
   "execution_count": 71,
   "id": "bd95df88-bf12-4e2e-a0d0-f3f866acf6f1",
   "metadata": {},
   "outputs": [
    {
     "name": "stdout",
     "output_type": "stream",
     "text": [
      "<class 'pandas.core.frame.DataFrame'>\n",
      "RangeIndex: 10 entries, 0 to 9\n",
      "Data columns (total 8 columns):\n",
      " #   Column  Non-Null Count  Dtype \n",
      "---  ------  --------------  ----- \n",
      " 0   sno     10 non-null     int64 \n",
      " 1   regno   10 non-null     int64 \n",
      " 2   name    10 non-null     object\n",
      " 3   m1      10 non-null     int64 \n",
      " 4   m2      10 non-null     int64 \n",
      " 5   m3      10 non-null     int64 \n",
      " 6   m4      10 non-null     int64 \n",
      " 7   m5      10 non-null     int64 \n",
      "dtypes: int64(7), object(1)\n",
      "memory usage: 772.0+ bytes\n"
     ]
    }
   ],
   "source": [
    "df.info()"
   ]
  },
  {
   "cell_type": "code",
   "execution_count": 72,
   "id": "82d4c5a4-91d6-4df2-8f4c-e5728529ee1f",
   "metadata": {},
   "outputs": [
    {
     "data": {
      "text/html": [
       "<div>\n",
       "<style scoped>\n",
       "    .dataframe tbody tr th:only-of-type {\n",
       "        vertical-align: middle;\n",
       "    }\n",
       "\n",
       "    .dataframe tbody tr th {\n",
       "        vertical-align: top;\n",
       "    }\n",
       "\n",
       "    .dataframe thead th {\n",
       "        text-align: right;\n",
       "    }\n",
       "</style>\n",
       "<table border=\"1\" class=\"dataframe\">\n",
       "  <thead>\n",
       "    <tr style=\"text-align: right;\">\n",
       "      <th></th>\n",
       "      <th>m1</th>\n",
       "      <th>m2</th>\n",
       "      <th>m3</th>\n",
       "      <th>m4</th>\n",
       "      <th>m5</th>\n",
       "    </tr>\n",
       "  </thead>\n",
       "  <tbody>\n",
       "    <tr>\n",
       "      <th>0</th>\n",
       "      <td>78</td>\n",
       "      <td>90</td>\n",
       "      <td>45</td>\n",
       "      <td>90</td>\n",
       "      <td>92</td>\n",
       "    </tr>\n",
       "    <tr>\n",
       "      <th>1</th>\n",
       "      <td>90</td>\n",
       "      <td>84</td>\n",
       "      <td>39</td>\n",
       "      <td>45</td>\n",
       "      <td>44</td>\n",
       "    </tr>\n",
       "    <tr>\n",
       "      <th>2</th>\n",
       "      <td>23</td>\n",
       "      <td>93</td>\n",
       "      <td>50</td>\n",
       "      <td>33</td>\n",
       "      <td>23</td>\n",
       "    </tr>\n",
       "    <tr>\n",
       "      <th>3</th>\n",
       "      <td>70</td>\n",
       "      <td>89</td>\n",
       "      <td>93</td>\n",
       "      <td>56</td>\n",
       "      <td>56</td>\n",
       "    </tr>\n",
       "    <tr>\n",
       "      <th>4</th>\n",
       "      <td>79</td>\n",
       "      <td>50</td>\n",
       "      <td>82</td>\n",
       "      <td>75</td>\n",
       "      <td>765</td>\n",
       "    </tr>\n",
       "    <tr>\n",
       "      <th>5</th>\n",
       "      <td>104</td>\n",
       "      <td>22</td>\n",
       "      <td>88</td>\n",
       "      <td>34</td>\n",
       "      <td>96</td>\n",
       "    </tr>\n",
       "    <tr>\n",
       "      <th>6</th>\n",
       "      <td>110</td>\n",
       "      <td>43</td>\n",
       "      <td>41</td>\n",
       "      <td>570</td>\n",
       "      <td>87</td>\n",
       "    </tr>\n",
       "    <tr>\n",
       "      <th>7</th>\n",
       "      <td>89</td>\n",
       "      <td>90</td>\n",
       "      <td>200</td>\n",
       "      <td>45</td>\n",
       "      <td>62</td>\n",
       "    </tr>\n",
       "    <tr>\n",
       "      <th>8</th>\n",
       "      <td>94</td>\n",
       "      <td>750</td>\n",
       "      <td>43</td>\n",
       "      <td>76</td>\n",
       "      <td>35</td>\n",
       "    </tr>\n",
       "    <tr>\n",
       "      <th>9</th>\n",
       "      <td>32</td>\n",
       "      <td>34</td>\n",
       "      <td>55</td>\n",
       "      <td>32</td>\n",
       "      <td>86</td>\n",
       "    </tr>\n",
       "  </tbody>\n",
       "</table>\n",
       "</div>"
      ],
      "text/plain": [
       "    m1   m2   m3   m4   m5\n",
       "0   78   90   45   90   92\n",
       "1   90   84   39   45   44\n",
       "2   23   93   50   33   23\n",
       "3   70   89   93   56   56\n",
       "4   79   50   82   75  765\n",
       "5  104   22   88   34   96\n",
       "6  110   43   41  570   87\n",
       "7   89   90  200   45   62\n",
       "8   94  750   43   76   35\n",
       "9   32   34   55   32   86"
      ]
     },
     "execution_count": 72,
     "metadata": {},
     "output_type": "execute_result"
    }
   ],
   "source": [
    "numeric_col = df.select_dtypes(include='int64')\n",
    "numeric_col.drop(['sno','regno'], axis=1, inplace=True)\n",
    "numeric_col"
   ]
  },
  {
   "cell_type": "code",
   "execution_count": 73,
   "id": "a3046b3d-be9e-4a95-8e7d-49e04c32c469",
   "metadata": {},
   "outputs": [
    {
     "data": {
      "image/png": "[encoded data removed]",
      "text/plain": [
       "<Figure size 640x480 with 1 Axes>"
      ]
     },
     "metadata": {},
     "output_type": "display_data"
    }
   ],
   "source": [
    "plt.boxplot(numeric_col)\n",
    "plt.title('Box Plot of all marks')\n",
    "plt.xlabel('Subjects')\n",
    "plt.ylabel('Marks')\n",
    "plt.show()"
   ]
  }
 ],
 "metadata": {
  "kernelspec": {
   "display_name": "Python 3 (ipykernel)",
   "language": "python",
   "name": "python3"
  },
  "language_info": {
   "codemirror_mode": {
    "name": "ipython",
    "version": 3
   },
   "file_extension": ".py",
   "mimetype": "text/x-python",
   "name": "python",
   "nbconvert_exporter": "python",
   "pygments_lexer": "ipython3",
   "version": "3.12.3"
  }
 },
 "nbformat": 4,
 "nbformat_minor": 5
}
