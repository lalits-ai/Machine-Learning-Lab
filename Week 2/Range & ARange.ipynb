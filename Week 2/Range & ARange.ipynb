{
 "cells": [
  {
   "cell_type": "markdown",
   "id": "19add10e-de48-47ed-8f41-4c6e0c3b7cb0",
   "metadata": {},
   "source": [
    "# Exploring Range and ARange functions"
   ]
  },
  {
   "cell_type": "markdown",
   "id": "163b632a-b378-4758-a4a0-863a3e1bfa23",
   "metadata": {},
   "source": [
    "### Range"
   ]
  },
  {
   "cell_type": "markdown",
   "id": "678a9065-0646-425a-b1c7-b207a0a0700c",
   "metadata": {},
   "source": [
    "The range() function in Python returns a sequence of numbers. It takes three parameters: start, stop, and step. By default, the start parameter is 0, and the step parameters are 1. The stop parameter specifies the upper limit of the sequence, but it is not included in the sequence itself."
   ]
  },
  {
   "cell_type": "code",
   "execution_count": 7,
   "id": "402de132-b715-4db6-adeb-454f0db24736",
   "metadata": {},
   "outputs": [
    {
     "name": "stdout",
     "output_type": "stream",
     "text": [
      "0\n",
      "1\n",
      "2\n",
      "3\n",
      "4\n",
      "5\n",
      "6\n",
      "7\n",
      "8\n",
      "9\n"
     ]
    }
   ],
   "source": [
    "'''\n",
    "Syntax 1 - range(stop) - Starts from 0 and ends at the given number - 1\n",
    "Syntax 2 - range(start, stop)\n",
    "Syntax 3 - range(start, stop, step)\n",
    "'''\n",
    "\n",
    "for i in range(10):\n",
    "    print(i)"
   ]
  },
  {
   "cell_type": "code",
   "execution_count": 2,
   "id": "615c1873-71e1-4414-80e6-39d1d6f7ea4f",
   "metadata": {},
   "outputs": [
    {
     "name": "stdout",
     "output_type": "stream",
     "text": [
      "20\n",
      "21\n",
      "22\n",
      "23\n",
      "24\n",
      "25\n",
      "26\n",
      "27\n",
      "28\n",
      "29\n"
     ]
    }
   ],
   "source": [
    "for i in range(20, 30):\n",
    "    print(i)"
   ]
  },
  {
   "cell_type": "code",
   "execution_count": 3,
   "id": "c9a4c1b0-d755-4350-bfaf-e49262959a6e",
   "metadata": {},
   "outputs": [
    {
     "name": "stdout",
     "output_type": "stream",
     "text": [
      "1 3 5 7 9 11 13 15 17 19 21 23 25 27 29 31 33 35 37 39 41 43 45 47 49 "
     ]
    }
   ],
   "source": [
    "for i in range(1, 50, 2):\n",
    "    print(i, end=\" \")"
   ]
  },
  {
   "cell_type": "code",
   "execution_count": 11,
   "id": "fcdc5e8a-7c68-4f0e-8758-a7d16dedf956",
   "metadata": {},
   "outputs": [
    {
     "name": "stdout",
     "output_type": "stream",
     "text": [
      "50 48 46 44 42 40 38 36 34 32 30 28 26 24 22 20 18 16 14 12 10 8 6 4 2 "
     ]
    }
   ],
   "source": [
    "for i in range(50, 1, -2):\n",
    "    print(i, end=\" \")"
   ]
  },
  {
   "cell_type": "markdown",
   "id": "c580eb20-a53a-499c-8caa-eadeef365720",
   "metadata": {},
   "source": [
    "### Creating lists and tuples with ```range()``` function"
   ]
  },
  {
   "cell_type": "code",
   "execution_count": 4,
   "id": "b9da1792-bc17-44dd-929c-52ec37cdfab7",
   "metadata": {},
   "outputs": [
    {
     "name": "stdout",
     "output_type": "stream",
     "text": [
      "1 3 5 7 9 "
     ]
    }
   ],
   "source": [
    "odd_list = list(range(1,10,2))\n",
    "for i in range(len(even_list)):\n",
    "    print(even_list[i], end=\" \")"
   ]
  },
  {
   "cell_type": "code",
   "execution_count": 5,
   "id": "3e9163c9-83b9-496d-9622-a6af1e6598cb",
   "metadata": {},
   "outputs": [
    {
     "name": "stdout",
     "output_type": "stream",
     "text": [
      "1 2 3 4 5 6 7 8 9 "
     ]
    }
   ],
   "source": [
    "tup = tuple(range(1,10))\n",
    "for i in range(len(tup)):\n",
    "    print(tup[i], end=\" \")"
   ]
  },
  {
   "cell_type": "markdown",
   "id": "3d955c87-8817-4e7b-991b-a1c07678ec16",
   "metadata": {},
   "source": [
    "---\n",
    "### ARange"
   ]
  },
  {
   "cell_type": "markdown",
   "id": "69d2c24e-90ce-4d10-95af-ab6fdc5fe548",
   "metadata": {},
   "source": [
    "The numpy.arange() function in Python is a powerful tool that allows you to create arrays with evenly spaced values. It is a versatile function used in various scenarios, from simple arithmetic to complex mathematical operations.\n",
    "\n",
    "For this method to work, we need to include NumPy (Numerical Python) first"
   ]
  },
  {
   "cell_type": "code",
   "execution_count": 6,
   "id": "3d52901c-4b38-4d95-a224-086d64b39b7b",
   "metadata": {},
   "outputs": [],
   "source": [
    "import numpy as np"
   ]
  },
  {
   "cell_type": "code",
   "execution_count": 10,
   "id": "0020c990-64b2-4c4b-9402-2debd5306cb8",
   "metadata": {},
   "outputs": [
    {
     "name": "stdout",
     "output_type": "stream",
     "text": [
      "[0 1 2 3 4 5 6 7 8 9]\n"
     ]
    }
   ],
   "source": [
    "'''\n",
    "Syntax 1 - np.arange(stop)\n",
    "Syntax 2 - np.arange(start, stop)\n",
    "Syntax 3 - np.arange(start, stop, step)\n",
    "Syntax 4 - np.arange(start, stop, step, dtype=None)\n",
    "'''\n",
    "\n",
    "arr = np.arange(10)\n",
    "print(arr) #Returns an numpy.ndarray"
   ]
  },
  {
   "cell_type": "code",
   "execution_count": 12,
   "id": "251bc191-7a33-4a95-a8c0-ab3c24855370",
   "metadata": {},
   "outputs": [
    {
     "name": "stdout",
     "output_type": "stream",
     "text": [
      "[1 2 3 4 5 6 7 8 9]\n"
     ]
    }
   ],
   "source": [
    "arr2 = np.arange(1, 10)\n",
    "print(arr2)"
   ]
  },
  {
   "cell_type": "code",
   "execution_count": 14,
   "id": "7d3bf9c2-867e-40b7-8052-183181c526c5",
   "metadata": {},
   "outputs": [
    {
     "data": {
      "text/plain": [
       "array([ 1,  3,  5,  7,  9, 11, 13, 15, 17, 19, 21, 23, 25, 27, 29, 31, 33,\n",
       "       35, 37, 39, 41, 43, 45, 47, 49])"
      ]
     },
     "execution_count": 14,
     "metadata": {},
     "output_type": "execute_result"
    }
   ],
   "source": [
    "arr3 = np.arange(1, 50, 2)\n",
    "arr3"
   ]
  },
  {
   "cell_type": "code",
   "execution_count": 15,
   "id": "488dcd9a-5529-4449-8d74-061c56df7640",
   "metadata": {},
   "outputs": [
    {
     "data": {
      "text/plain": [
       "numpy.ndarray"
      ]
     },
     "execution_count": 15,
     "metadata": {},
     "output_type": "execute_result"
    }
   ],
   "source": [
    "type(arr3)"
   ]
  },
  {
   "cell_type": "code",
   "execution_count": 18,
   "id": "80ea442c-9907-426e-8b54-b7c8ee444f12",
   "metadata": {},
   "outputs": [
    {
     "data": {
      "text/plain": [
       "array([ 1.,  3.,  5.,  7.,  9., 11., 13., 15., 17., 19., 21., 23., 25.,\n",
       "       27., 29., 31., 33., 35., 37., 39., 41., 43., 45., 47., 49.])"
      ]
     },
     "execution_count": 18,
     "metadata": {},
     "output_type": "execute_result"
    }
   ],
   "source": [
    "arr4 = np.arange(1, 50, 2, dtype='float64')\n",
    "arr4"
   ]
  },
  {
   "cell_type": "code",
   "execution_count": 19,
   "id": "37007e03-bbf0-42c5-903c-1b7f4716e433",
   "metadata": {},
   "outputs": [
    {
     "data": {
      "text/plain": [
       "array([10. ,  9.5,  9. ,  8.5,  8. ,  7.5,  7. ,  6.5,  6. ,  5.5,  5. ,\n",
       "        4.5,  4. ,  3.5,  3. ,  2.5,  2. ,  1.5])"
      ]
     },
     "execution_count": 19,
     "metadata": {},
     "output_type": "execute_result"
    }
   ],
   "source": [
    "arr5 = np.arange(10, 1, -0.5, dtype='float64')\n",
    "arr5"
   ]
  },
  {
   "cell_type": "code",
   "execution_count": 20,
   "id": "d755f809-8f0d-4fa0-b9c6-439536d6e512",
   "metadata": {},
   "outputs": [
    {
     "name": "stdout",
     "output_type": "stream",
     "text": [
      "Processing element 0\n",
      "Processing element 1\n",
      "Processing element 2\n",
      "Processing element 3\n",
      "Processing element 4\n",
      "Processing element 5\n",
      "Processing element 6\n",
      "Processing element 7\n",
      "Processing element 8\n",
      "Processing element 9\n"
     ]
    }
   ],
   "source": [
    "for i in np.arange(10):\n",
    "    print(f\"Processing element {i}\")"
   ]
  },
  {
   "cell_type": "markdown",
   "id": "eb282bf6-c227-42eb-8203-ebe8db4da232",
   "metadata": {},
   "source": [
    "### Useful in generating data for plotting"
   ]
  },
  {
   "cell_type": "code",
   "execution_count": 21,
   "id": "15f525f6-82f6-4668-8bd9-49afeca32b2c",
   "metadata": {},
   "outputs": [],
   "source": [
    "import matplotlib.pyplot as plt\n",
    "%matplotlib inline"
   ]
  },
  {
   "cell_type": "code",
   "execution_count": 45,
   "id": "c4f91a64-76ff-4f76-988e-9b23546c6252",
   "metadata": {},
   "outputs": [
    {
     "name": "stdout",
     "output_type": "stream",
     "text": [
      "(18,)\n",
      "(18,)\n"
     ]
    }
   ],
   "source": [
    "x = np.arange(1, 10, .5)\n",
    "y = np.arange(11, 20, .5)\n",
    "\n",
    "print(x.shape)\n",
    "print(y.shape)"
   ]
  },
  {
   "cell_type": "code",
   "execution_count": 46,
   "id": "1d127dcb-2578-471a-bd42-6770d0d5c762",
   "metadata": {},
   "outputs": [
    {
     "name": "stdout",
     "output_type": "stream",
     "text": [
      "[1.  1.5 2.  2.5 3.  3.5 4.  4.5 5.  5.5 6.  6.5 7.  7.5 8.  8.5 9.  9.5]\n",
      "[11.  11.5 12.  12.5 13.  13.5 14.  14.5 15.  15.5 16.  16.5 17.  17.5\n",
      " 18.  18.5 19.  19.5]\n"
     ]
    }
   ],
   "source": [
    "print(x)\n",
    "print(y)"
   ]
  },
  {
   "cell_type": "code",
   "execution_count": 47,
   "id": "feab8900-04ff-4136-a65b-1916894877cf",
   "metadata": {},
   "outputs": [
    {
     "data": {
      "image/png": "[encoded data removed]",
      "text/plain": [
       "<Figure size 640x480 with 1 Axes>"
      ]
     },
     "metadata": {},
     "output_type": "display_data"
    }
   ],
   "source": [
    "plt.scatter(x, y)\n",
    "plt.show()"
   ]
  },
  {
   "cell_type": "markdown",
   "id": "c4261cd8-0899-43e1-a18d-60a5771dc632",
   "metadata": {},
   "source": [
    "### Creating Multi-Dimensional Arrays"
   ]
  },
  {
   "cell_type": "code",
   "execution_count": 48,
   "id": "af98e147-fb03-45ae-9ebf-7b83f04cf65d",
   "metadata": {},
   "outputs": [
    {
     "data": {
      "text/plain": [
       "array([[0, 1, 2],\n",
       "       [3, 4, 5],\n",
       "       [6, 7, 8]])"
      ]
     },
     "execution_count": 48,
     "metadata": {},
     "output_type": "execute_result"
    }
   ],
   "source": [
    "matrix = np.arange(9).reshape(3, 3)\n",
    "matrix"
   ]
  },
  {
   "cell_type": "code",
   "execution_count": null,
   "id": "27f20f5d-7b44-4d12-a3d2-c2cf52d5ff7c",
   "metadata": {},
   "outputs": [],
   "source": []
  }
 ],
 "metadata": {
  "kernelspec": {
   "display_name": "Python 3 (ipykernel)",
   "language": "python",
   "name": "python3"
  },
  "language_info": {
   "codemirror_mode": {
    "name": "ipython",
    "version": 3
   },
   "file_extension": ".py",
   "mimetype": "text/x-python",
   "name": "python",
   "nbconvert_exporter": "python",
   "pygments_lexer": "ipython3",
   "version": "3.12.3"
  }
 },
 "nbformat": 4,
 "nbformat_minor": 5
}
