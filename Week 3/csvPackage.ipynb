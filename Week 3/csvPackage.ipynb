{
 "cells": [
  {
   "cell_type": "code",
   "execution_count": 1,
   "id": "ebe22d49",
   "metadata": {},
   "outputs": [],
   "source": [
    "import csv"
   ]
  },
  {
   "cell_type": "code",
   "execution_count": 2,
   "id": "f9db3d8e",
   "metadata": {},
   "outputs": [],
   "source": [
    "data = {'Name':['Lalit','Sai','John','Jacob'],\n",
    "        'Roll no':[6,23,12,19]}"
   ]
  },
  {
   "cell_type": "code",
   "execution_count": 3,
   "id": "87c8a1cf",
   "metadata": {},
   "outputs": [
    {
     "data": {
      "text/plain": [
       "{'Name': ['Lalit', 'Sai', 'John', 'Jacob'], 'Roll no': [6, 23, 12, 19]}"
      ]
     },
     "execution_count": 3,
     "metadata": {},
     "output_type": "execute_result"
    }
   ],
   "source": [
    "data"
   ]
  },
  {
   "cell_type": "code",
   "execution_count": 4,
   "id": "e75e12c3",
   "metadata": {},
   "outputs": [],
   "source": [
    "file = r\"D:\\230970006_ML\\Lab Files\\data.csv\""
   ]
  },
  {
   "cell_type": "code",
   "execution_count": 11,
   "id": "95646895",
   "metadata": {},
   "outputs": [],
   "source": [
    "with open(file, 'w') as csvfile:\n",
    "    csvWriter = csv.writer(csvfile)\n",
    "    csvWriter.writerow(data.keys())\n",
    "    csvWriter.writerows(data.values())\n",
    "csvfile.close()"
   ]
  },
  {
   "cell_type": "code",
   "execution_count": null,
   "id": "511ba997",
   "metadata": {},
   "outputs": [],
   "source": []
  }
 ],
 "metadata": {
  "kernelspec": {
   "display_name": "Python 3 (ipykernel)",
   "language": "python",
   "name": "python3"
  },
  "language_info": {
   "codemirror_mode": {
    "name": "ipython",
    "version": 3
   },
   "file_extension": ".py",
   "mimetype": "text/x-python",
   "name": "python",
   "nbconvert_exporter": "python",
   "pygments_lexer": "ipython3",
   "version": "3.9.13"
  }
 },
 "nbformat": 4,
 "nbformat_minor": 5
}
