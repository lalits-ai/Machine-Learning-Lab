{
 "cells": [
  {
   "cell_type": "code",
   "execution_count": 1,
   "id": "1a53bfdd-6521-4add-bf42-ea67304eb9fe",
   "metadata": {},
   "outputs": [],
   "source": [
    "import sympy as sym"
   ]
  },
  {
   "cell_type": "code",
   "execution_count": 3,
   "id": "2eacabe3-dff1-4525-a5bb-c296d6351449",
   "metadata": {},
   "outputs": [],
   "source": [
    "x, y, z = sym.symbols('x y z')"
   ]
  },
  {
   "cell_type": "code",
   "execution_count": 6,
   "id": "7337390e-781c-431e-ad50-03e7e4a7b6c6",
   "metadata": {},
   "outputs": [
    {
     "data": {
      "text/latex": [
       "$\\displaystyle x^{3} y + y^{3} + z$"
      ],
      "text/plain": [
       "x**3*y + y**3 + z"
      ]
     },
     "execution_count": 6,
     "metadata": {},
     "output_type": "execute_result"
    }
   ],
   "source": [
    "exp = x**3 * y + y**3 + z\n",
    "exp"
   ]
  },
  {
   "cell_type": "code",
   "execution_count": 5,
   "id": "bb961f15-229e-44a4-96ad-18b1983a3797",
   "metadata": {},
   "outputs": [
    {
     "data": {
      "text/latex": [
       "$\\displaystyle 3 x^{2} y$"
      ],
      "text/plain": [
       "3*x**2*y"
      ]
     },
     "execution_count": 5,
     "metadata": {},
     "output_type": "execute_result"
    }
   ],
   "source": [
    "diff_x = sym.diff(exp, x)\n",
    "diff_x"
   ]
  },
  {
   "cell_type": "code",
   "execution_count": 7,
   "id": "1c5e4dff-67b5-4ea3-88e2-92464cac4cc0",
   "metadata": {},
   "outputs": [
    {
     "data": {
      "text/latex": [
       "$\\displaystyle x^{3} + 3 y^{2}$"
      ],
      "text/plain": [
       "x**3 + 3*y**2"
      ]
     },
     "execution_count": 7,
     "metadata": {},
     "output_type": "execute_result"
    }
   ],
   "source": [
    "diff_y = sym.diff(exp, y)\n",
    "diff_y"
   ]
  },
  {
   "cell_type": "code",
   "execution_count": 8,
   "id": "5b347d3a-8b58-4531-9c49-1ea6b48478ab",
   "metadata": {},
   "outputs": [
    {
     "data": {
      "text/latex": [
       "$\\displaystyle 1$"
      ],
      "text/plain": [
       "1"
      ]
     },
     "execution_count": 8,
     "metadata": {},
     "output_type": "execute_result"
    }
   ],
   "source": [
    "diff_z = sym.diff(exp, z)\n",
    "diff_z"
   ]
  },
  {
   "cell_type": "code",
   "execution_count": 10,
   "id": "6786997a-e003-4b80-bbeb-902b571394d8",
   "metadata": {},
   "outputs": [
    {
     "data": {
      "text/plain": [
       "[2*x, 2*y]"
      ]
     },
     "execution_count": 10,
     "metadata": {},
     "output_type": "execute_result"
    }
   ],
   "source": [
    "exp = x**2 + y**2\n",
    "\n",
    "diff_x = sym.diff(exp, x)\n",
    "diff_y = sym.diff(exp, y)\n",
    "\n",
    "gradients = list((diff_x, diff_y))\n",
    "gradients"
   ]
  },
  {
   "cell_type": "markdown",
   "id": "a4105ff7-4c2a-460f-aecf-cb983f99939e",
   "metadata": {},
   "source": [
    "### Que - Find the gradient of f(x, y) = $x^2$ + $y^2$ at (2, 3)"
   ]
  },
  {
   "cell_type": "code",
   "execution_count": 11,
   "id": "834c7475-6dae-410e-9945-a2ee27b47f0f",
   "metadata": {},
   "outputs": [
    {
     "data": {
      "text/latex": [
       "$\\displaystyle x^{2} + y^{2}$"
      ],
      "text/plain": [
       "x**2 + y**2"
      ]
     },
     "execution_count": 11,
     "metadata": {},
     "output_type": "execute_result"
    }
   ],
   "source": [
    "exp = x**2 + y**2\n",
    "\n",
    "exp"
   ]
  },
  {
   "cell_type": "code",
   "execution_count": 12,
   "id": "0bac2cd7-56bb-4511-bc1c-16dc4f634e76",
   "metadata": {},
   "outputs": [
    {
     "data": {
      "text/plain": [
       "[2*x, 2*y]"
      ]
     },
     "execution_count": 12,
     "metadata": {},
     "output_type": "execute_result"
    }
   ],
   "source": [
    "diff_x = sym.diff(exp, x)\n",
    "diff_y = sym.diff(exp, y)\n",
    "\n",
    "gradients = list((diff_x, diff_y))\n",
    "gradients\n",
    "    "
   ]
  },
  {
   "cell_type": "markdown",
   "id": "4704dcc2-ed0f-4f3e-ab6a-9ab9ea25584d",
   "metadata": {},
   "source": [
    "---"
   ]
  },
  {
   "cell_type": "code",
   "execution_count": 13,
   "id": "2665792b-e034-437b-a624-998417784d36",
   "metadata": {},
   "outputs": [
    {
     "data": {
      "text/latex": [
       "$\\displaystyle - 0.0111111111111111 x^{2} y^{2} \\left(x - 6\\right) \\left(y - 6\\right) + 85$"
      ],
      "text/plain": [
       "-0.0111111111111111*x**2*y**2*(x - 6)*(y - 6) + 85"
      ]
     },
     "execution_count": 13,
     "metadata": {},
     "output_type": "execute_result"
    }
   ],
   "source": [
    "exp = 85 - (1/90) * x**2 * (x-6) * y**2 * (y-6)\n",
    "exp"
   ]
  },
  {
   "cell_type": "code",
   "execution_count": 14,
   "id": "4d16a193-226d-4eac-bf60-e295c6d9be1c",
   "metadata": {},
   "outputs": [
    {
     "data": {
      "text/plain": [
       "[-0.0111111111111111*x**2*y**2*(y - 6) - 0.0222222222222222*x*y**2*(x - 6)*(y - 6),\n",
       " -0.0111111111111111*x**2*y**2*(x - 6) - 0.0222222222222222*x**2*y*(x - 6)*(y - 6)]"
      ]
     },
     "execution_count": 14,
     "metadata": {},
     "output_type": "execute_result"
    }
   ],
   "source": [
    "diff_x = sym.diff(exp, x)\n",
    "diff_y = sym.diff(exp, y)\n",
    "\n",
    "gradients = list((diff_x, diff_y))\n",
    "gradients"
   ]
  },
  {
   "cell_type": "markdown",
   "id": "efc137d8-4803-4888-840f-6def7518b6c0",
   "metadata": {},
   "source": [
    "---"
   ]
  },
  {
   "cell_type": "code",
   "execution_count": 16,
   "id": "a0262b4a-f519-42e9-a835-9051edf6be43",
   "metadata": {},
   "outputs": [
    {
     "data": {
      "text/latex": [
       "$\\displaystyle 3 b^{2} + 12 b m - 20 b + 14 m^{2} - 42 m + 38$"
      ],
      "text/plain": [
       "3*b**2 + 12*b*m - 20*b + 14*m**2 - 42*m + 38"
      ]
     },
     "execution_count": 16,
     "metadata": {},
     "output_type": "execute_result"
    }
   ],
   "source": [
    "m, b = sym.symbols('m b')\n",
    "\n",
    "exp = 14 * m**2 + 3 * b**2 + 38 + 12 * m * b - 42 * m - 20 * b\n",
    "exp"
   ]
  },
  {
   "cell_type": "code",
   "execution_count": 17,
   "id": "8eabc1eb-8b59-4158-a63a-8deb2302890a",
   "metadata": {},
   "outputs": [
    {
     "data": {
      "text/plain": [
       "[12*b + 28*m - 42, 6*b + 12*m - 20]"
      ]
     },
     "execution_count": 17,
     "metadata": {},
     "output_type": "execute_result"
    }
   ],
   "source": [
    "diff_m = sym.diff(exp, m)\n",
    "diff_b = sym.diff(exp, b)\n",
    "\n",
    "gradients = list((diff_m, diff_b))\n",
    "gradients"
   ]
  },
  {
   "cell_type": "code",
   "execution_count": null,
   "id": "905a95d6-e7ae-487c-b35b-adddfc9067d3",
   "metadata": {},
   "outputs": [],
   "source": []
  }
 ],
 "metadata": {
  "kernelspec": {
   "display_name": "Python 3 (ipykernel)",
   "language": "python",
   "name": "python3"
  },
  "language_info": {
   "codemirror_mode": {
    "name": "ipython",
    "version": 3
   },
   "file_extension": ".py",
   "mimetype": "text/x-python",
   "name": "python",
   "nbconvert_exporter": "python",
   "pygments_lexer": "ipython3",
   "version": "3.12.3"
  }
 },
 "nbformat": 4,
 "nbformat_minor": 5
}
