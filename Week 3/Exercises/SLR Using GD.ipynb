{
 "cells": [
  {
   "cell_type": "code",
   "execution_count": 23,
   "id": "a66e19e7-0d2c-485d-9866-4a48ffea3a98",
   "metadata": {},
   "outputs": [],
   "source": [
    "import pandas as pd\n",
    "import numpy as np\n",
    "\n",
    "import matplotlib.pyplot as plt\n",
    "%matplotlib inline\n",
    "\n",
    "import sympy as sym\n",
    "from sklearn.linear_model import LinearRegression\n",
    "\n",
    "from tabulate import tabulate\n",
    "\n",
    "import warnings\n",
    "def warn(*args, **kwargs):\n",
    "    pass\n",
    "warnings.warn = warn"
   ]
  },
  {
   "cell_type": "code",
   "execution_count": 2,
   "id": "d0461040-50b6-4b58-8b06-83fa8fda8930",
   "metadata": {},
   "outputs": [
    {
     "data": {
      "text/html": [
       "<div>\n",
       "<style scoped>\n",
       "    .dataframe tbody tr th:only-of-type {\n",
       "        vertical-align: middle;\n",
       "    }\n",
       "\n",
       "    .dataframe tbody tr th {\n",
       "        vertical-align: top;\n",
       "    }\n",
       "\n",
       "    .dataframe thead th {\n",
       "        text-align: right;\n",
       "    }\n",
       "</style>\n",
       "<table border=\"1\" class=\"dataframe\">\n",
       "  <thead>\n",
       "    <tr style=\"text-align: right;\">\n",
       "      <th></th>\n",
       "      <th>Hours</th>\n",
       "      <th>Scores</th>\n",
       "    </tr>\n",
       "  </thead>\n",
       "  <tbody>\n",
       "    <tr>\n",
       "      <th>0</th>\n",
       "      <td>2.5</td>\n",
       "      <td>21</td>\n",
       "    </tr>\n",
       "    <tr>\n",
       "      <th>1</th>\n",
       "      <td>5.1</td>\n",
       "      <td>47</td>\n",
       "    </tr>\n",
       "    <tr>\n",
       "      <th>2</th>\n",
       "      <td>3.2</td>\n",
       "      <td>27</td>\n",
       "    </tr>\n",
       "    <tr>\n",
       "      <th>3</th>\n",
       "      <td>8.5</td>\n",
       "      <td>75</td>\n",
       "    </tr>\n",
       "    <tr>\n",
       "      <th>4</th>\n",
       "      <td>3.5</td>\n",
       "      <td>30</td>\n",
       "    </tr>\n",
       "  </tbody>\n",
       "</table>\n",
       "</div>"
      ],
      "text/plain": [
       "   Hours  Scores\n",
       "0    2.5      21\n",
       "1    5.1      47\n",
       "2    3.2      27\n",
       "3    8.5      75\n",
       "4    3.5      30"
      ]
     },
     "execution_count": 2,
     "metadata": {},
     "output_type": "execute_result"
    }
   ],
   "source": [
    "df = pd.read_csv(r\"C:\\Jupyter Projects\\Machine Learning\\ML Lab\\Week 3\\Exercises\\studyHours.csv\")\n",
    "df.head()"
   ]
  },
  {
   "cell_type": "code",
   "execution_count": 3,
   "id": "5329c109-e7fd-49c3-873d-c36d7e6f5478",
   "metadata": {},
   "outputs": [],
   "source": [
    "X = df.Hours\n",
    "y = df.Scores"
   ]
  },
  {
   "cell_type": "code",
   "execution_count": 6,
   "id": "4d588946-c9a5-424a-bc71-1c6e0d99041e",
   "metadata": {},
   "outputs": [],
   "source": [
    "m, c = sym.symbols('m c')"
   ]
  },
  {
   "cell_type": "code",
   "execution_count": 22,
   "id": "07e7435f-c03e-4170-806f-cec67c3c22b3",
   "metadata": {},
   "outputs": [
    {
     "name": "stdout",
     "output_type": "stream",
     "text": [
      "Iteration: 0\n",
      "R2 score: -4.317328544320954\n",
      "Iteration: 1\n",
      "R2 score: 0.2735112798953734\n",
      "\n",
      "Final R2 score: 0.8651706588707242\n",
      "Final m: 9.457774003437958\n",
      "Final c: 1.5369743620442111\n"
     ]
    }
   ],
   "source": [
    "def gradient_descent(X, y, learning_rate=.01, threshold=.80, iterations=1000):\n",
    "    m = 0\n",
    "    c = 0\n",
    "\n",
    "    n = len(X)\n",
    "    history = []\n",
    "    for i in range(iterations):\n",
    "        y_pred = m * X + c\n",
    "\n",
    "        error = y - y_pred\n",
    "\n",
    "        m_gradient = -2/n * np.sum((error * X))\n",
    "        c_gradient = -2/n * np.sum(error)\n",
    "\n",
    "        m -= learning_rate * m_gradient\n",
    "        c -= learning_rate * c_gradient\n",
    "\n",
    "        ssr = np.sum((y_pred - np.mean(y)) ** 2)\n",
    "        sst = np.sum((y - np.mean(y)) ** 2)\n",
    "        r2_score = 1 - (np.sum((y - y_pred) ** 2) / sst)\n",
    "\n",
    "        history.append((m, c, r2_score))\n",
    "\n",
    "        if r2_score > threshold:\n",
    "            break\n",
    "        print(f\"Iteration: {i}\")\n",
    "        print(f\"R2 score: {r2_score}\")\n",
    "\n",
    "    return m, c, history\n",
    "\n",
    "\n",
    "m, c, history = gradient_descent(X, y)\n",
    "\n",
    "print(f\"\\nFinal R2 score: {history[-1][2]}\")\n",
    "print(f\"Final m: {m}\")\n",
    "print(f\"Final c: {c}\")"
   ]
  },
  {
   "cell_type": "code",
   "execution_count": 41,
   "id": "16308cb6-4505-4e0a-a5dd-e52750f1e150",
   "metadata": {},
   "outputs": [
    {
     "name": "stdout",
     "output_type": "stream",
     "text": [
      "+-----------+-----------+------------+\n",
      "|   m_value |   c_value |   R2_Score |\n",
      "+===========+===========+============+\n",
      "|   6.35712 |   1.0296  |  -4.31733  |\n",
      "+-----------+-----------+------------+\n",
      "|   8.63895 |   1.40137 |   0.273511 |\n",
      "+-----------+-----------+------------+\n",
      "|   9.45777 |   1.53697 |   0.865171 |\n",
      "+-----------+-----------+------------+\n"
     ]
    }
   ],
   "source": [
    "print(tabulate(history, headers=['m_value','c_value','R2_Score'], tablefmt='grid'))"
   ]
  },
  {
   "cell_type": "code",
   "execution_count": null,
   "id": "1c8d7dee-6b66-40c7-aff1-e8a83f4241af",
   "metadata": {},
   "outputs": [],
   "source": []
  }
 ],
 "metadata": {
  "kernelspec": {
   "display_name": "Python 3 (ipykernel)",
   "language": "python",
   "name": "python3"
  },
  "language_info": {
   "codemirror_mode": {
    "name": "ipython",
    "version": 3
   },
   "file_extension": ".py",
   "mimetype": "text/x-python",
   "name": "python",
   "nbconvert_exporter": "python",
   "pygments_lexer": "ipython3",
   "version": "3.12.3"
  }
 },
 "nbformat": 4,
 "nbformat_minor": 5
}
