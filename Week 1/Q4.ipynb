{
 "cells": [
  {
   "cell_type": "markdown",
   "id": "15ee3716",
   "metadata": {},
   "source": [
    "# Question 4\n",
    "\n",
    "### Create a program that reads the followoing 10 data values and display the sorted order(from smallest to largest). Use the min and max functions to find the smallest and largest values. Also comopute the 5 number summary for the data. Find the IQR value. Also find the outliers if any.\n",
    "\n",
    "__DATA__: 16,09,14,11,13,06,18,15,10,12"
   ]
  },
  {
   "cell_type": "code",
   "execution_count": 42,
   "id": "6cd93005",
   "metadata": {},
   "outputs": [],
   "source": [
    "import pandas as pd\n",
    "import numpy as np\n",
    "import matplotlib.pyplot as plt\n",
    "import seaborn as sns\n",
    "%matplotlib inline\n",
    "\n",
    "import warnings\n",
    "warnings.filterwarnings('ignore')"
   ]
  },
  {
   "cell_type": "markdown",
   "id": "d22df99d",
   "metadata": {},
   "source": [
    "### Reading the data"
   ]
  },
  {
   "cell_type": "code",
   "execution_count": 32,
   "id": "6e9dba8a",
   "metadata": {},
   "outputs": [
    {
     "name": "stdout",
     "output_type": "stream",
     "text": [
      "Enter data: \n",
      "16\n",
      "9\n",
      "14\n",
      "11\n",
      "13\n",
      "6\n",
      "18\n",
      "15\n",
      "10\n",
      "12\n"
     ]
    },
    {
     "data": {
      "text/plain": [
       "[16, 9, 14, 11, 13, 6, 18, 15, 10, 12]"
      ]
     },
     "execution_count": 32,
     "metadata": {},
     "output_type": "execute_result"
    }
   ],
   "source": [
    "data = []\n",
    "print(\"Enter data: \")\n",
    "for i in range(0, 10):\n",
    "    d = int(input())\n",
    "    data.append(d)\n",
    "data"
   ]
  },
  {
   "cell_type": "markdown",
   "id": "f555e070",
   "metadata": {},
   "source": [
    "Making a copy of the data for future purposes"
   ]
  },
  {
   "cell_type": "code",
   "execution_count": 33,
   "id": "1a445894",
   "metadata": {},
   "outputs": [],
   "source": [
    "unsorted_data = data.copy()"
   ]
  },
  {
   "cell_type": "markdown",
   "id": "c99d625c",
   "metadata": {},
   "source": [
    "### Sorting the data"
   ]
  },
  {
   "cell_type": "code",
   "execution_count": 34,
   "id": "7badf8b8",
   "metadata": {},
   "outputs": [
    {
     "name": "stdout",
     "output_type": "stream",
     "text": [
      "Unsorted Data: [16, 9, 14, 11, 13, 6, 18, 15, 10, 12]\n",
      "Sorted Data: [6, 9, 10, 11, 12, 13, 14, 15, 16, 18]\n"
     ]
    }
   ],
   "source": [
    "for i in range(len(data)):\n",
    "    for j in range(i, len(data)):\n",
    "        if(data[i] > data[j]):\n",
    "            temp = data[i];\n",
    "            data[i] = data[j];\n",
    "            data[j] = temp;\n",
    "\n",
    "sorted_data = data;\n",
    "print(f\"Unsorted Data: {unsorted_data}\")\n",
    "print(f\"Sorted Data: {sorted_data}\")"
   ]
  },
  {
   "cell_type": "markdown",
   "id": "e3b4b67e",
   "metadata": {},
   "source": [
    "### Min and Max Functions"
   ]
  },
  {
   "cell_type": "code",
   "execution_count": 35,
   "id": "6daeb788",
   "metadata": {},
   "outputs": [
    {
     "name": "stdout",
     "output_type": "stream",
     "text": [
      "Minimum Value: 6\n",
      "Maximum Value: 18\n"
     ]
    }
   ],
   "source": [
    "minimum = min(sorted_data)\n",
    "maximum = max(sorted_data)\n",
    "print(f\"Minimum Value: {minimum}\")\n",
    "print(f\"Maximum Value: {maximum}\")"
   ]
  },
  {
   "cell_type": "markdown",
   "id": "da14f7a5",
   "metadata": {},
   "source": [
    "### Five Number Summary"
   ]
  },
  {
   "cell_type": "code",
   "execution_count": 36,
   "id": "68189d5e",
   "metadata": {},
   "outputs": [],
   "source": [
    "mean = np.mean(sorted_data)\n",
    "Q1 = np.quantile(sorted_data, .25)\n",
    "Q2 = np.quantile(sorted_data, .50)\n",
    "Q3 = np.quantile(sorted_data, .75)\n",
    "IQR = Q3 - Q1"
   ]
  },
  {
   "cell_type": "code",
   "execution_count": 37,
   "id": "d12b43ee",
   "metadata": {},
   "outputs": [
    {
     "name": "stdout",
     "output_type": "stream",
     "text": [
      "5 Number Summary\n",
      "\n",
      "Minimum: 6\n",
      "Quantile 1: 10.25\n",
      "Quantile 2/Median: 12.5\n",
      "Quantile 3: 14.75\n",
      "Maximum: 18\n",
      "\n",
      "Inter Quartile Range(IQR): 4.5\n",
      "Mean: 12.4\n"
     ]
    }
   ],
   "source": [
    "print(\"5 Number Summary\\n\")\n",
    "print(f\"Minimum: {minimum}\")\n",
    "print(f\"Quantile 1: {Q1}\")\n",
    "print(f\"Quantile 2/Median: {Q2}\")\n",
    "print(f\"Quantile 3: {Q3}\")\n",
    "print(f\"Maximum: {maximum}\")\n",
    "print(f\"\\nInter Quartile Range(IQR): {IQR}\")\n",
    "print(f\"Mean: {mean}\")"
   ]
  },
  {
   "cell_type": "markdown",
   "id": "ee713dc3",
   "metadata": {},
   "source": [
    "#### 5 Number summary validation"
   ]
  },
  {
   "cell_type": "code",
   "execution_count": 38,
   "id": "9d59e315",
   "metadata": {},
   "outputs": [],
   "source": [
    "df = pd.DataFrame({'Data':sorted_data})"
   ]
  },
  {
   "cell_type": "code",
   "execution_count": 39,
   "id": "87e534b9",
   "metadata": {},
   "outputs": [
    {
     "data": {
      "text/html": [
       "<div>\n",
       "<style scoped>\n",
       "    .dataframe tbody tr th:only-of-type {\n",
       "        vertical-align: middle;\n",
       "    }\n",
       "\n",
       "    .dataframe tbody tr th {\n",
       "        vertical-align: top;\n",
       "    }\n",
       "\n",
       "    .dataframe thead th {\n",
       "        text-align: right;\n",
       "    }\n",
       "</style>\n",
       "<table border=\"1\" class=\"dataframe\">\n",
       "  <thead>\n",
       "    <tr style=\"text-align: right;\">\n",
       "      <th></th>\n",
       "      <th>Data</th>\n",
       "    </tr>\n",
       "  </thead>\n",
       "  <tbody>\n",
       "    <tr>\n",
       "      <th>0</th>\n",
       "      <td>6</td>\n",
       "    </tr>\n",
       "    <tr>\n",
       "      <th>1</th>\n",
       "      <td>9</td>\n",
       "    </tr>\n",
       "    <tr>\n",
       "      <th>2</th>\n",
       "      <td>10</td>\n",
       "    </tr>\n",
       "    <tr>\n",
       "      <th>3</th>\n",
       "      <td>11</td>\n",
       "    </tr>\n",
       "    <tr>\n",
       "      <th>4</th>\n",
       "      <td>12</td>\n",
       "    </tr>\n",
       "    <tr>\n",
       "      <th>5</th>\n",
       "      <td>13</td>\n",
       "    </tr>\n",
       "    <tr>\n",
       "      <th>6</th>\n",
       "      <td>14</td>\n",
       "    </tr>\n",
       "    <tr>\n",
       "      <th>7</th>\n",
       "      <td>15</td>\n",
       "    </tr>\n",
       "    <tr>\n",
       "      <th>8</th>\n",
       "      <td>16</td>\n",
       "    </tr>\n",
       "    <tr>\n",
       "      <th>9</th>\n",
       "      <td>18</td>\n",
       "    </tr>\n",
       "  </tbody>\n",
       "</table>\n",
       "</div>"
      ],
      "text/plain": [
       "   Data\n",
       "0     6\n",
       "1     9\n",
       "2    10\n",
       "3    11\n",
       "4    12\n",
       "5    13\n",
       "6    14\n",
       "7    15\n",
       "8    16\n",
       "9    18"
      ]
     },
     "execution_count": 39,
     "metadata": {},
     "output_type": "execute_result"
    }
   ],
   "source": [
    "df"
   ]
  },
  {
   "cell_type": "code",
   "execution_count": 40,
   "id": "3c415160",
   "metadata": {},
   "outputs": [
    {
     "data": {
      "text/html": [
       "<div>\n",
       "<style scoped>\n",
       "    .dataframe tbody tr th:only-of-type {\n",
       "        vertical-align: middle;\n",
       "    }\n",
       "\n",
       "    .dataframe tbody tr th {\n",
       "        vertical-align: top;\n",
       "    }\n",
       "\n",
       "    .dataframe thead th {\n",
       "        text-align: right;\n",
       "    }\n",
       "</style>\n",
       "<table border=\"1\" class=\"dataframe\">\n",
       "  <thead>\n",
       "    <tr style=\"text-align: right;\">\n",
       "      <th></th>\n",
       "      <th>Data</th>\n",
       "    </tr>\n",
       "  </thead>\n",
       "  <tbody>\n",
       "    <tr>\n",
       "      <th>count</th>\n",
       "      <td>10.000000</td>\n",
       "    </tr>\n",
       "    <tr>\n",
       "      <th>mean</th>\n",
       "      <td>12.400000</td>\n",
       "    </tr>\n",
       "    <tr>\n",
       "      <th>std</th>\n",
       "      <td>3.565265</td>\n",
       "    </tr>\n",
       "    <tr>\n",
       "      <th>min</th>\n",
       "      <td>6.000000</td>\n",
       "    </tr>\n",
       "    <tr>\n",
       "      <th>25%</th>\n",
       "      <td>10.250000</td>\n",
       "    </tr>\n",
       "    <tr>\n",
       "      <th>50%</th>\n",
       "      <td>12.500000</td>\n",
       "    </tr>\n",
       "    <tr>\n",
       "      <th>75%</th>\n",
       "      <td>14.750000</td>\n",
       "    </tr>\n",
       "    <tr>\n",
       "      <th>max</th>\n",
       "      <td>18.000000</td>\n",
       "    </tr>\n",
       "  </tbody>\n",
       "</table>\n",
       "</div>"
      ],
      "text/plain": [
       "            Data\n",
       "count  10.000000\n",
       "mean   12.400000\n",
       "std     3.565265\n",
       "min     6.000000\n",
       "25%    10.250000\n",
       "50%    12.500000\n",
       "75%    14.750000\n",
       "max    18.000000"
      ]
     },
     "execution_count": 40,
     "metadata": {},
     "output_type": "execute_result"
    }
   ],
   "source": [
    "df.describe()"
   ]
  },
  {
   "cell_type": "markdown",
   "id": "23734901",
   "metadata": {},
   "source": [
    "### Conclusion: The 5 number summary data matches"
   ]
  },
  {
   "cell_type": "markdown",
   "id": "5cca6879",
   "metadata": {},
   "source": [
    "### Outliers"
   ]
  },
  {
   "cell_type": "code",
   "execution_count": 43,
   "id": "fb22fbc1",
   "metadata": {},
   "outputs": [
    {
     "data": {
      "text/plain": [
       "<AxesSubplot:xlabel='Data'>"
      ]
     },
     "execution_count": 43,
     "metadata": {},
     "output_type": "execute_result"
    },
    {
     "data": {
      "image/png": "[encoded data removed]",
      "text/plain": [
       "<Figure size 432x288 with 1 Axes>"
      ]
     },
     "metadata": {
      "needs_background": "light"
     },
     "output_type": "display_data"
    }
   ],
   "source": [
    "sns.boxplot(df.Data)"
   ]
  },
  {
   "cell_type": "markdown",
   "id": "a8cbb624",
   "metadata": {},
   "source": [
    "### Conclusion: There are no outliers"
   ]
  },
  {
   "cell_type": "code",
   "execution_count": null,
   "id": "988c3b6c",
   "metadata": {},
   "outputs": [],
   "source": []
  }
 ],
 "metadata": {
  "kernelspec": {
   "display_name": "Python 3 (ipykernel)",
   "language": "python",
   "name": "python3"
  },
  "language_info": {
   "codemirror_mode": {
    "name": "ipython",
    "version": 3
   },
   "file_extension": ".py",
   "mimetype": "text/x-python",
   "name": "python",
   "nbconvert_exporter": "python",
   "pygments_lexer": "ipython3",
   "version": "3.9.12"
  }
 },
 "nbformat": 4,
 "nbformat_minor": 5
}
