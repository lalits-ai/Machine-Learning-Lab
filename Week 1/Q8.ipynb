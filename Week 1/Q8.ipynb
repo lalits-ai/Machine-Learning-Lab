{
 "cells": [
  {
   "cell_type": "markdown",
   "id": "d8e940d6-54ec-4fac-92ed-8a03d0721080",
   "metadata": {},
   "source": [
    "# Question 8\n",
    "\n",
    "### When analysing data collected as part of a science experiment it may be desirable to remove the most extreme values before performing other calculations. Write a function that takes a list of values and an non-negative integer, n, as its parameters. The function should create a new copy of the list with the n largest elements and the n smallest elements removed. Then it should return the new copy of the list as the function’s only result. The order of the elements in the returned list does not have to match the order of the elements in the original list.\n",
    "\n",
    "### Your function should read a list of numbers from the user and remove the two largest and two smallest values from it. Display the list with the outliers removed, followed by the original list. Your program should generate an appropriate error message if the user enters less than 4 values.\n"
   ]
  },
  {
   "cell_type": "markdown",
   "id": "bfd2386c-5d58-4d59-b1f9-a3af4a140223",
   "metadata": {},
   "source": [
    "#### Defining the function"
   ]
  },
  {
   "cell_type": "code",
   "execution_count": 24,
   "id": "ad8837e3-b962-4835-8011-bdf1fce7a92e",
   "metadata": {},
   "outputs": [],
   "source": [
    "import numpy as np\n",
    "\n",
    "def removeOutliers(data, n):\n",
    "    copied_data = data.copy()\n",
    "    for i in range(len(copied_data)):\n",
    "        for j in range(i, len(copied_data)):\n",
    "            if copied_data[i] > copied_data[j]:\n",
    "                temp = copied_data[i]\n",
    "                copied_data[i] = copied_data[j]\n",
    "                copied_data[j] = temp\n",
    "    copied_data = copied_data[n:]\n",
    "    copied_data = copied_data[:-n]\n",
    "    return copied_data"
   ]
  },
  {
   "cell_type": "markdown",
   "id": "491f8408-2986-489e-8077-6f5de074bef7",
   "metadata": {},
   "source": [
    "#### Getting the data"
   ]
  },
  {
   "cell_type": "code",
   "execution_count": 25,
   "id": "b5760760-4293-4be3-abdc-3a2d6ae6ea06",
   "metadata": {},
   "outputs": [
    {
     "name": "stdin",
     "output_type": "stream",
     "text": [
      "Enter no. of elements:  10\n"
     ]
    },
    {
     "name": "stdout",
     "output_type": "stream",
     "text": [
      "Enter elements: \n"
     ]
    },
    {
     "name": "stdin",
     "output_type": "stream",
     "text": [
      " 9\n",
      " 7\n",
      " 2\n",
      " 8\n",
      " 4\n",
      " 6\n",
      " 10\n",
      " 7\n",
      " 22\n",
      " 31\n",
      "Enter outlier size:  2\n"
     ]
    },
    {
     "name": "stdout",
     "output_type": "stream",
     "text": [
      "Original data: [9, 7, 2, 8, 4, 6, 10, 7, 22, 31]\n",
      "Cleaned data: [6, 7, 7, 8, 9, 10]\n"
     ]
    }
   ],
   "source": [
    "n = int(input(\"Enter no. of elements: \"))\n",
    "if n < 4:\n",
    "    print(\"Minimum elements should be 4\")\n",
    "else:\n",
    "    print(\"Enter elements: \")\n",
    "    data = []\n",
    "    for i in range(n):\n",
    "        num = int(input())\n",
    "        data.append(num)\n",
    "    outlier_size = int(input(\"Enter outlier size: \"))\n",
    "    clean_data = removeOutliers(data, outlier_size)\n",
    "    print(f\"Original data: {data}\")\n",
    "    print(f\"Cleaned data: {clean_data}\")"
   ]
  },
  {
   "cell_type": "code",
   "execution_count": null,
   "id": "4329a080-0a4f-4601-9379-010683ba6846",
   "metadata": {},
   "outputs": [],
   "source": []
  }
 ],
 "metadata": {
  "kernelspec": {
   "display_name": "Python 3 (ipykernel)",
   "language": "python",
   "name": "python3"
  },
  "language_info": {
   "codemirror_mode": {
    "name": "ipython",
    "version": 3
   },
   "file_extension": ".py",
   "mimetype": "text/x-python",
   "name": "python",
   "nbconvert_exporter": "python",
   "pygments_lexer": "ipython3",
   "version": "3.12.3"
  }
 },
 "nbformat": 4,
 "nbformat_minor": 5
}
