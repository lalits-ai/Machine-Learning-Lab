{
 "cells": [
  {
   "cell_type": "markdown",
   "id": "824072d6-85eb-4d20-8eed-0895bf3c9c67",
   "metadata": {},
   "source": [
    "# Question 6\n",
    "\n",
    "### Write a program that reads a sound level in decibels from the user. If the user enters a decibel level that matches one of the noises in the table then your program should display a message containing only the noise. If the user enters a number of decibels between the noises listed, then your program should display a message indicating which noises the level is between. Ensure that your program also generates reasonable output for a value smaller than the quietiest noise in the table, and for a value larger than the loudest noise in the table."
   ]
  },
  {
   "cell_type": "code",
   "execution_count": 1,
   "id": "54d07187-6992-4143-8eaf-300537b8e72a",
   "metadata": {},
   "outputs": [
    {
     "data": {
      "text/plain": [
       "{'Noise': ['Jackhammer', 'Gas Lawnmower', 'Alarm clock', 'Quiet room'],\n",
       " 'Decibel': [130, 106, 70, 40]}"
      ]
     },
     "execution_count": 1,
     "metadata": {},
     "output_type": "execute_result"
    }
   ],
   "source": [
    "decibel_list = {'Noise':['Jackhammer','Gas Lawnmower','Alarm clock','Quiet room'],\n",
    "                'Decibel':[130,106,70,40]}\n",
    "decibel_list"
   ]
  },
  {
   "cell_type": "code",
   "execution_count": 32,
   "id": "503d4aa7-5dcd-4a3c-b7d0-b327e240b8dc",
   "metadata": {},
   "outputs": [
    {
     "name": "stdin",
     "output_type": "stream",
     "text": [
      "Enter decibel level:  57\n"
     ]
    },
    {
     "name": "stdout",
     "output_type": "stream",
     "text": [
      "\n",
      "Avaliable Noises:\n",
      "\n",
      "Quiet room\n"
     ]
    }
   ],
   "source": [
    "decibel = int(input(\"Enter decibel level: \"))\n",
    "\n",
    "def checkDecibelLevel(decibel, decibel_list):\n",
    "    print(\"\\nAvaliable Noises:\\n\")\n",
    "    for i in range(len(decibel_list['Decibel'])):\n",
    "        if decibel_list['Decibel'][i]==decibel:\n",
    "            print(decibel_list['Noise'][i])\n",
    "            break\n",
    "        elif decibel > max(decibel_list['Decibel']):\n",
    "            print(f\"Higher than max decibel {max(decibel_list['Decibel'])}, cannot be heard!\")\n",
    "            break\n",
    "        elif decibel < min(decibel_list['Decibel']):\n",
    "            print(f\"Lower than min decibel {min(decibel_list['Decibel'])}, cannot be heard!\")\n",
    "            break\n",
    "        elif decibel_list['Decibel'][i] <= decibel:\n",
    "            print(decibel_list['Noise'][i])\n",
    "\n",
    "checkDecibelLevel(decibel, decibel_list)"
   ]
  },
  {
   "cell_type": "code",
   "execution_count": null,
   "id": "ff2be297-52be-4d11-92ad-bff2c1cc0f20",
   "metadata": {},
   "outputs": [],
   "source": []
  }
 ],
 "metadata": {
  "kernelspec": {
   "display_name": "Python 3 (ipykernel)",
   "language": "python",
   "name": "python3"
  },
  "language_info": {
   "codemirror_mode": {
    "name": "ipython",
    "version": 3
   },
   "file_extension": ".py",
   "mimetype": "text/x-python",
   "name": "python",
   "nbconvert_exporter": "python",
   "pygments_lexer": "ipython3",
   "version": "3.12.3"
  }
 },
 "nbformat": 4,
 "nbformat_minor": 5
}
