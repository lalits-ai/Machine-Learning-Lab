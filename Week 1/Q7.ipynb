{
 "cells": [
  {
   "cell_type": "markdown",
   "id": "6fef3a94-90d9-40eb-a593-fb74b79a2820",
   "metadata": {},
   "source": [
    "# Question 7\n",
    "\n",
    "### The marks obtained by 10 students in a class test were as follows: 38, 41, 36, 31, 45, 38, 27, 32, 29, 39.\n",
    "\n",
    "Find:\n",
    "\n",
    "* The mean of their marks\n",
    "* The mean of their marks when the marks of each student are increased by 2\n",
    "* The mean of their marks when one mark is deducted from marks of each student\n",
    "* The mean of their marks when the marks of each student halved"
   ]
  },
  {
   "cell_type": "code",
   "execution_count": 7,
   "id": "8cf72759-8c62-4a66-996c-3c60234b2be8",
   "metadata": {},
   "outputs": [],
   "source": [
    "import numpy as np"
   ]
  },
  {
   "cell_type": "markdown",
   "id": "ea301ae1-8f69-4ecf-818c-4e202eed4f1c",
   "metadata": {},
   "source": [
    "### Getting the data"
   ]
  },
  {
   "cell_type": "code",
   "execution_count": 3,
   "id": "8a024c50-a2d3-461b-b9ce-4ae6482b98b5",
   "metadata": {},
   "outputs": [
    {
     "name": "stdout",
     "output_type": "stream",
     "text": [
      "Enter data elements: \n"
     ]
    },
    {
     "name": "stdin",
     "output_type": "stream",
     "text": [
      " 38\n",
      " 41\n",
      " 36\n",
      " 31\n",
      " 45\n",
      " 38\n",
      " 27\n",
      " 32\n",
      " 29\n",
      " 39\n"
     ]
    },
    {
     "data": {
      "text/plain": [
       "[38, 41, 36, 31, 45, 38, 27, 32, 29, 39]"
      ]
     },
     "execution_count": 3,
     "metadata": {},
     "output_type": "execute_result"
    }
   ],
   "source": [
    "print(\"Enter data elements: \")\n",
    "data = []\n",
    "for i in range(10):\n",
    "    num = int(input())\n",
    "    data.append(num)\n",
    "data"
   ]
  },
  {
   "cell_type": "markdown",
   "id": "ccaf36b8-0ce1-4cf6-933c-1fdf10ed13c4",
   "metadata": {},
   "source": [
    "### 1) Mean of the data"
   ]
  },
  {
   "cell_type": "code",
   "execution_count": 5,
   "id": "420ca1e6-e0ae-4ee8-9a3e-03ce3a8b760f",
   "metadata": {},
   "outputs": [
    {
     "name": "stdout",
     "output_type": "stream",
     "text": [
      "Mean of the data: 35.6\n"
     ]
    }
   ],
   "source": [
    "summation = 0\n",
    "for i in range(0,len(data)):\n",
    "    summation += data[i]\n",
    "mean = summation/len(data)\n",
    "print(f\"Mean of the data: {mean}\")"
   ]
  },
  {
   "cell_type": "markdown",
   "id": "820242d8-15c4-4ab7-aa77-ee75f3058bf3",
   "metadata": {},
   "source": [
    "### 2) Mean of data, increased by 2"
   ]
  },
  {
   "cell_type": "code",
   "execution_count": 16,
   "id": "1de09b2b-bdf4-401f-bf23-bfe712b1a1f2",
   "metadata": {},
   "outputs": [
    {
     "name": "stdout",
     "output_type": "stream",
     "text": [
      "Old data: [38, 41, 36, 31, 45, 38, 27, 32, 29, 39]\n",
      "New data: [40, 43, 38, 33, 47, 40, 29, 34, 31, 41]\n",
      "Mean of the data: 37.6\n"
     ]
    }
   ],
   "source": [
    "_2marks = [x+2 for x in data]\n",
    "summation = 0\n",
    "print(f\"Old data: {data}\")\n",
    "print(f\"New data: {_2marks}\")\n",
    "for i in range(0,len(_2marks)):\n",
    "    summation += _2marks[i]\n",
    "mean = summation/len(_2marks)\n",
    "print(f\"Mean of the data: {mean}\")"
   ]
  },
  {
   "cell_type": "markdown",
   "id": "700ffdd3-7439-4790-8f54-fd5499dd5748",
   "metadata": {},
   "source": [
    "### 3) Mean of data, decreased by 1"
   ]
  },
  {
   "cell_type": "code",
   "execution_count": 18,
   "id": "17499163-5d6b-4895-8114-666ecf1adecb",
   "metadata": {},
   "outputs": [
    {
     "name": "stdout",
     "output_type": "stream",
     "text": [
      "Old data: [38, 41, 36, 31, 45, 38, 27, 32, 29, 39]\n",
      "New data: [37, 40, 35, 30, 44, 37, 26, 31, 28, 38]\n",
      "Mean of the data: 34.6\n"
     ]
    }
   ],
   "source": [
    "_1marks = [x-1 for x in data]\n",
    "summation = 0\n",
    "print(f\"Old data: {data}\")\n",
    "print(f\"New data: {_1marks}\")\n",
    "for i in range(0,len(_1marks)):\n",
    "    summation += _1marks[i]\n",
    "mean = summation/len(_1marks)\n",
    "print(f\"Mean of the data: {mean}\")"
   ]
  },
  {
   "cell_type": "markdown",
   "id": "480d21e7-d0a7-48a9-9291-7c089793ea48",
   "metadata": {},
   "source": [
    "### 4) Mean of data, halved"
   ]
  },
  {
   "cell_type": "code",
   "execution_count": 19,
   "id": "b69da26d-e5a6-4faa-ad9b-24d6ba9788a2",
   "metadata": {},
   "outputs": [
    {
     "name": "stdout",
     "output_type": "stream",
     "text": [
      "Old data: [38, 41, 36, 31, 45, 38, 27, 32, 29, 39]\n",
      "New data: [19.0, 20.5, 18.0, 15.5, 22.5, 19.0, 13.5, 16.0, 14.5, 19.5]\n",
      "Mean of the data: 17.8\n"
     ]
    }
   ],
   "source": [
    "_halvedmarks = [x/2 for x in data]\n",
    "summation = 0\n",
    "print(f\"Old data: {data}\")\n",
    "print(f\"New data: {_halvedmarks}\")\n",
    "for i in range(0,len(_halvedmarks)):\n",
    "    summation += _halvedmarks[i]\n",
    "mean = summation/len(_halvedmarks)\n",
    "print(f\"Mean of the data: {mean}\")"
   ]
  },
  {
   "cell_type": "code",
   "execution_count": null,
   "id": "5cf7c834-192c-4f5c-8747-71fbaaab114a",
   "metadata": {},
   "outputs": [],
   "source": []
  }
 ],
 "metadata": {
  "kernelspec": {
   "display_name": "Python 3 (ipykernel)",
   "language": "python",
   "name": "python3"
  },
  "language_info": {
   "codemirror_mode": {
    "name": "ipython",
    "version": 3
   },
   "file_extension": ".py",
   "mimetype": "text/x-python",
   "name": "python",
   "nbconvert_exporter": "python",
   "pygments_lexer": "ipython3",
   "version": "3.12.3"
  }
 },
 "nbformat": 4,
 "nbformat_minor": 5
}
