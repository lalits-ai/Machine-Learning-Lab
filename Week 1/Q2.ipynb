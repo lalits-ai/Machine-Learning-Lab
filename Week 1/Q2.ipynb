{
 "cells": [
  {
   "cell_type": "markdown",
   "id": "fa10aa0b-52df-4852-80ed-056c3150cf4f",
   "metadata": {},
   "source": [
    "# Question 2\n",
    "\n",
    "### Write a program that asks the user to enter the width and length of a room. Once the values have been read, your program should compute and display the area of the room. The length and the width will be entered as floating point numbers. Include units in your prompt and output message; either feet or meters, depending on which unit you are more comfortable working with."
   ]
  },
  {
   "cell_type": "code",
   "execution_count": 1,
   "id": "9cf6c543-5009-41d5-afc0-c74a040a990f",
   "metadata": {},
   "outputs": [
    {
     "name": "stdin",
     "output_type": "stream",
     "text": [
      "Enter length in feet:  5\n",
      "Enter width in feet:  4\n"
     ]
    },
    {
     "name": "stdout",
     "output_type": "stream",
     "text": [
      "Area: 20.0 sq. feet\n"
     ]
    }
   ],
   "source": [
    "length = float(input(\"Enter length in feet: \"))\n",
    "width = float(input(\"Enter width in feet: \"))\n",
    "area = length * width\n",
    "print(f\"Area: {area} sq. feet\")"
   ]
  },
  {
   "cell_type": "code",
   "execution_count": null,
   "id": "870ae196-3d04-4111-b8da-372efd294e01",
   "metadata": {},
   "outputs": [],
   "source": []
  }
 ],
 "metadata": {
  "kernelspec": {
   "display_name": "Python 3 (ipykernel)",
   "language": "python",
   "name": "python3"
  },
  "language_info": {
   "codemirror_mode": {
    "name": "ipython",
    "version": 3
   },
   "file_extension": ".py",
   "mimetype": "text/x-python",
   "name": "python",
   "nbconvert_exporter": "python",
   "pygments_lexer": "ipython3",
   "version": "3.12.3"
  }
 },
 "nbformat": 4,
 "nbformat_minor": 5
}
