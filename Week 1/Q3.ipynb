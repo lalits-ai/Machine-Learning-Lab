{
 "cells": [
  {
   "cell_type": "markdown",
   "id": "082e99a7-175a-4444-9c21-eb0cae35dfdc",
   "metadata": {},
   "source": [
    "# Question 3\n",
    "\n",
    "### Python includes a library of functions for working with time, including a function called asctime in the time module. It reads the current time from the computer’s internal clock and returns it in a human-readable format. Write a program that displays the current time and date. Your program will not require any input from the user."
   ]
  },
  {
   "cell_type": "code",
   "execution_count": 1,
   "id": "152c9cc5-5b0a-487d-8b2d-ef29084d1aeb",
   "metadata": {},
   "outputs": [],
   "source": [
    "import time as dt"
   ]
  },
  {
   "cell_type": "code",
   "execution_count": 2,
   "id": "9dfef99a-cee3-44dd-b484-f326b455b844",
   "metadata": {},
   "outputs": [
    {
     "name": "stdout",
     "output_type": "stream",
     "text": [
      "Current time: Sun Jul 28 00:19:04 2024\n"
     ]
    }
   ],
   "source": [
    "current_time = dt.asctime()\n",
    "\n",
    "print(f\"Current time: {current_time}\")"
   ]
  },
  {
   "cell_type": "code",
   "execution_count": null,
   "id": "299b74e8-8089-4bed-a3b3-2c9687b04e57",
   "metadata": {},
   "outputs": [],
   "source": []
  }
 ],
 "metadata": {
  "kernelspec": {
   "display_name": "Python 3 (ipykernel)",
   "language": "python",
   "name": "python3"
  },
  "language_info": {
   "codemirror_mode": {
    "name": "ipython",
    "version": 3
   },
   "file_extension": ".py",
   "mimetype": "text/x-python",
   "name": "python",
   "nbconvert_exporter": "python",
   "pygments_lexer": "ipython3",
   "version": "3.12.3"
  }
 },
 "nbformat": 4,
 "nbformat_minor": 5
}
