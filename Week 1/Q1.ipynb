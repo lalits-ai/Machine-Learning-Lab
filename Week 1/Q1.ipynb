{
 "cells": [
  {
   "cell_type": "markdown",
   "id": "8b33ee70-72f7-4787-a85b-bc2cb808e04b",
   "metadata": {},
   "source": [
    "# Question 1\n",
    "\n",
    "### Create a program that reads the length and width of a farmer’s field from the user in feet. Display the area of the field in acres.\n",
    "Hint: There are 43,560 square feet in an acre."
   ]
  },
  {
   "cell_type": "code",
   "execution_count": 1,
   "id": "42d9c429-a5ae-4e50-aea9-9c95882a68e0",
   "metadata": {},
   "outputs": [
    {
     "name": "stdin",
     "output_type": "stream",
     "text": [
      "Enter length:  5\n",
      "Enter width:  4\n"
     ]
    },
    {
     "name": "stdout",
     "output_type": "stream",
     "text": [
      "Area of field: 0.0004591368227731864 acres\n"
     ]
    }
   ],
   "source": [
    "length = int(input(\"Enter length: \"))\n",
    "width = int(input(\"Enter width: \"))\n",
    "area = length * width\n",
    "print(f\"Area of field: {area/43560} acres\")"
   ]
  },
  {
   "cell_type": "code",
   "execution_count": null,
   "id": "4ceeb783-deaf-471e-bf7f-26f0493328a4",
   "metadata": {},
   "outputs": [],
   "source": []
  }
 ],
 "metadata": {
  "kernelspec": {
   "display_name": "Python 3 (ipykernel)",
   "language": "python",
   "name": "python3"
  },
  "language_info": {
   "codemirror_mode": {
    "name": "ipython",
    "version": 3
   },
   "file_extension": ".py",
   "mimetype": "text/x-python",
   "name": "python",
   "nbconvert_exporter": "python",
   "pygments_lexer": "ipython3",
   "version": "3.12.3"
  }
 },
 "nbformat": 4,
 "nbformat_minor": 5
}
